{
  "nbformat": 4,
  "nbformat_minor": 0,
  "metadata": {
    "colab": {
      "name": "煎饼学Py之基础杂记.ipynb",
      "version": "0.3.2",
      "provenance": []
    },
    "kernelspec": {
      "display_name": "Python 3",
      "language": "python",
      "name": "python3"
    }
  },
  "cells": [
    {
      "metadata": {
        "heading_collapsed": true,
        "id": "Jql7IXh9-pxC",
        "colab_type": "text"
      },
      "cell_type": "markdown",
      "source": [
        "# 基本的输入输出\n",
        "\n",
        "* 输入 input\n",
        "* 输出 print"
      ]
    },
    {
      "metadata": {
        "hidden": true,
        "id": "wkgq9u8n-pxE",
        "colab_type": "code",
        "colab": {}
      },
      "cell_type": "code",
      "source": [
        "name = input(\"尊姓大名？\")\n",
        "print(\"你好\" + name)"
      ],
      "execution_count": 0,
      "outputs": []
    },
    {
      "metadata": {
        "heading_collapsed": true,
        "id": "LQBdxNOh-pxM",
        "colab_type": "text"
      },
      "cell_type": "markdown",
      "source": [
        "# 注释(Comment)\n",
        "\n",
        "- 机器不去执行注释内容\n",
        "- 注释一般用自然语言书写\n",
        "- 注释的写法：\n",
        "    - 行注释： 以井号#开头，可单独行，也可在某行代码后边\n",
        "    - 块注释： 好几行代码或者内容，以前后各 3 个引号，单双均可（'''或\"\"\"）开始和结束，中间任何内容机器都忽略\n",
        "        * 块注释不能单独使用或放代码最后，否则可能与多行字符串混淆\n",
        "           "
      ]
    },
    {
      "metadata": {
        "hidden": true,
        "id": "plUy0zOL-pxO",
        "colab_type": "code",
        "colab": {}
      },
      "cell_type": "code",
      "source": [
        "'''\n",
        "代码的作用：\n",
        "1. 给人看  \n",
        "2. 给机器看\n",
        "'''\n",
        "\n",
        "# 注释是纯给人看的内容\n",
        "\n",
        "print(\"Hello world\")     # 打印出Hello World"
      ],
      "execution_count": 0,
      "outputs": []
    },
    {
      "metadata": {
        "heading_collapsed": true,
        "id": "wIQOsNN--pxS",
        "colab_type": "text"
      },
      "cell_type": "markdown",
      "source": [
        "# 代码缩进\n",
        "\n",
        "- Python最具特色的就是使用缩进来表示代码块，不需要使用大括号 {} \n",
        "- 缩进的空格数是可变的，但是同一个代码块的语句必须包含相同的缩进空格数\n",
        "- 4 个空格或 1 个 Tab，(常用Tab)\n",
        "- 行尾的冒号和下一行的缩进表示代码块开始，缩进结束则代码块结束"
      ]
    },
    {
      "metadata": {
        "code_folding": [],
        "hidden": true,
        "run_control": {
          "marked": false
        },
        "id": "owRva64D-pxU",
        "colab_type": "code",
        "colab": {}
      },
      "cell_type": "code",
      "source": [
        "'''\n",
        "有缩进，不出意外应该输出\n",
        "小毛孩\n",
        "回家吧\n",
        "老司机开车\n",
        "'''\n",
        "\n",
        "age = 17\n",
        "if age < 18:  # ⚠️注意：if语句末尾的冒号不能少\n",
        "    print(\"小毛孩\")  # 有缩进，该动作在if语句中\n",
        "    print(\"回家吧\")  # 有缩进，该动作在if语句中\n",
        "\n",
        "print(\"老司机开车\")  # 无缩进，该动作不在if语句中"
      ],
      "execution_count": 0,
      "outputs": []
    },
    {
      "metadata": {
        "code_folding": [],
        "hidden": true,
        "run_control": {
          "marked": false
        },
        "id": "OjsTcuEz-pxa",
        "colab_type": "code",
        "colab": {}
      },
      "cell_type": "code",
      "source": [
        "'''\n",
        "无缩进，不出意外应该输出\n",
        "回家吧\n",
        "老司机开车\n",
        "'''\n",
        "\n",
        "age = 19\n",
        "if age < 18:  # ⚠️注意：if语句末尾的冒号不能少\n",
        "    print(\"小毛孩\")  # 有缩进，该动作在if语句中\n",
        "print(\"回家吧\")  # 无缩进，该动作不在if语句中\n",
        "\n",
        "print(\"老司机开车\")  # 无缩进，该动作不在if语句中"
      ],
      "execution_count": 0,
      "outputs": []
    },
    {
      "metadata": {
        "heading_collapsed": true,
        "id": "dTeBiVtr-pxg",
        "colab_type": "text"
      },
      "cell_type": "markdown",
      "source": [
        "# 变量(Variable)\n",
        "\n",
        "* 变量：可理解为标签，把一个值赋值(assignment)给一个名字，存起来多次使用\n",
        "* 变量命名规范：\n",
        "    - 保留字，即关键字。变量命名必须避开，不能跟保留字重复\n",
        "        - 区分大小写，True、if是保留字，但TRUE、IF不属于保留字\n",
        "        - 常见有class， def， break，for，while等\n",
        "    \n",
        "    - 推荐：\n",
        "        - 使用具有固定含义的英文单词或缩写，如srv=server skt=socket,一般以posix命名规则为主\n",
        "        - 驼峰命名法：\n",
        "            - 名称以单词自动连接，且每个单词首字母大写\n",
        "                - 大驼峰，每个单词第一个字母均大写\n",
        "                    - 在Python中给类命名使用此法\n",
        "                    - MyFirstLove, IntOne\n",
        "                - 小驼峰，类似大驼峰，但第一个字母小写\n",
        "                    - 在Python中一般给普通变量或者函数命名\n",
        "                    - myFirstLove, intOne\n",
        "                - posix写法\n",
        "                    - 多个单词用下划线链接\n",
        "                    - 单词全部小写\n",
        "                    - my_first_love, int_one\n",
        "    \n",
        "    - 标识符，主要用于标识变量、函数、类、模块和其他对象的名称\n",
        "        - 由字母、下划线“_“和数字组成，区分大小写\n",
        "        - 第一个字符不能是数字，不能用保留字，不能包含空格、@、%、¥等特殊字符\n",
        "        - 可以使用汉字，但尽量不用\n",
        "        - 以下划线开头的标识符有特殊意义，一般避免相似的标识符\n",
        "            - 以单下划线开头的标识符(如_width)表示不能直接访问的类属性，也不能通过“from xxx import*”导入\n",
        "            - 以双下划线开始的标识符(如__add)表示类的私有成员\n",
        "            - 以双下划线开头和结尾的是Python的专用标识，如“__init__()”表示构造函数\n",
        " "
      ]
    },
    {
      "metadata": {
        "hidden": true,
        "id": "vl79FQ_f-pxi",
        "colab_type": "code",
        "colab": {}
      },
      "cell_type": "code",
      "source": [
        "# 查看关键字的方法\n",
        "import keyword    # 引入关键字模块\n",
        "\n",
        "print(keyword.kwlist)   # 打印出系统全部关键字"
      ],
      "execution_count": 0,
      "outputs": []
    },
    {
      "metadata": {
        "heading_collapsed": true,
        "hidden": true,
        "id": "pWrQM-Zb-pxm",
        "colab_type": "text"
      },
      "cell_type": "markdown",
      "source": [
        "## 变量声明的几种方法\n",
        "\n",
        "1. var_name = var_value\n",
        "2. var1 = var2 = var3 = var_value\n",
        "3. var1, var2, var3 = v1, v2, v3"
      ]
    },
    {
      "metadata": {
        "hidden": true,
        "id": "x5_df75f-pxo",
        "colab_type": "code",
        "colab": {}
      },
      "cell_type": "code",
      "source": [
        "# 定义变量age，把1８放入变量age中\n",
        "age = 18\n",
        "print(age)\n",
        "\n",
        "# 给age1，age2，age3 放入同样一个内容或值\n",
        "age1 = age2 = age3 = 66\n",
        "print(age1)\n",
        "print(age2)\n",
        "print(age3)\n",
        "\n",
        "# 一行内给多个变量赋值\n",
        "age4, age5, age6 = 12, 21, 45\n",
        "print(age4)\n",
        "print(age5)\n",
        "print(age6)"
      ],
      "execution_count": 0,
      "outputs": []
    },
    {
      "metadata": {
        "heading_collapsed": true,
        "id": "P8psAVAt-pxv",
        "colab_type": "text"
      },
      "cell_type": "markdown",
      "source": [
        "# 基本数据类型\n",
        "\n",
        "- 严格意义上讲，Python只有一个类型\n",
        "- 标准数据一共六种\n",
        "    1. 数字类型(Number)\n",
        "    2. 字符串类型(String)\n",
        "    3. 列表(List)\n",
        "    4. 元组(Tuple)\n",
        "    5. 字典(Dictionary)\n",
        "    6. 集合(Set)"
      ]
    },
    {
      "metadata": {
        "heading_collapsed": true,
        "hidden": true,
        "id": "71eWTbXi-pxw",
        "colab_type": "text"
      },
      "cell_type": "markdown",
      "source": [
        "## 数字(Number)\n",
        "\n",
        "- 数字类型没有大小限制\n",
        "- 主要包括整数、浮点数、复数"
      ]
    },
    {
      "metadata": {
        "heading_collapsed": true,
        "hidden": true,
        "id": "ckzbrJJj-pxz",
        "colab_type": "text"
      },
      "cell_type": "markdown",
      "source": [
        "### 整数(Integer)\n",
        "\n",
        "- 没有小数部分，表示个数的数字\n",
        "- 自然数，0，负自然数\n",
        "- 整数分进制\n",
        "    - 二进制\n",
        "        - 计算机常用，是计算机唯一能直接理解的数字\n",
        "        - 只有0和1两个基数，以0b开头，“逢二进一”\n",
        "            * 如0b101转换成十进制是5\n",
        "    \n",
        "    - 八进制\n",
        "        - 以0o开头的包含0-7的数字，“逢八进一”\n",
        "            * 如-0o123转换成十进制是-83\n",
        "        - Python3中必须以0o/0O开头，Python2可以0开头\n",
        "    \n",
        "    - 十六进制\n",
        "        - 由0～9，A～F组成，以0x/0X开头，“缝十六进一”\n",
        "            * 如0x25转换成十进制是37，0Xb01e转换成十进制是45086，0xff转换成十进制是255\n",
        "        - 其实是每四位二进制表示一位十六进制数\n",
        "    \n",
        "    - 十进制\n",
        "        - 不能以0开头(0除外)"
      ]
    },
    {
      "metadata": {
        "hidden": true,
        "id": "mum0kq5S-px1",
        "colab_type": "code",
        "colab": {}
      },
      "cell_type": "code",
      "source": [
        "a = 0b101 # 二进制化十进制为5\n",
        "print(a)\n",
        "\n",
        "b = -0o123 # 八进制化十进制为-83\n",
        "print(b)\n",
        "\n",
        "c = 0xff # 十六进制ff表示二进制的1111 1111，化十进制为255\n",
        "print(c)"
      ],
      "execution_count": 0,
      "outputs": []
    },
    {
      "metadata": {
        "heading_collapsed": true,
        "hidden": true,
        "id": "y0nBWN-c-pyB",
        "colab_type": "text"
      },
      "cell_type": "markdown",
      "source": [
        "### 浮点数(Floating_point)\n",
        "\n",
        "- 由整数和小数部分组成，即常见的小数\n",
        "    - 计算机里边表示浮点数可以有条件省略\n",
        "        * 如3.1415 ， 3. ， 0.5 ， .5\n",
        "\n",
        "- 所有语言都存在使用浮点数计算时可能会出现小数位数不确定的情况，暂时忽略即可\n",
        "    * 如计算0.1+0.2\n",
        "    \n",
        "- 科学计数法\n",
        "    - 定义跟数学定义\n",
        "    - 写法是用e/E后面跟整数表示10的指数\n",
        "        * 176.34 == 1.7634e2 ，0.876 == 8.76E-1"
      ]
    },
    {
      "metadata": {
        "hidden": true,
        "id": "n1lZr_iH-pyF",
        "colab_type": "code",
        "colab": {}
      },
      "cell_type": "code",
      "source": [
        "a = 0.1 + 0.2 # 小数位数不确定，忽略\n",
        "b = 1.7634E2 # 科学计数176.34\n",
        "c = .5 # 0.5的省略写法\n",
        "\n",
        "print(a)\n",
        "print(b)\n",
        "print(c)"
      ],
      "execution_count": 0,
      "outputs": []
    },
    {
      "metadata": {
        "heading_collapsed": true,
        "hidden": true,
        "id": "yq3zxbcO-pyJ",
        "colab_type": "text"
      },
      "cell_type": "markdown",
      "source": [
        "### 复数(Complex)\n",
        "- 定义同数学定义一致,由实部和虚部构成的数字\n",
        "- 虚部用j/J表示\n",
        "- 表示一个复数时，可将其实部和虚部相加\n",
        "    * 如3.14+12.5j"
      ]
    },
    {
      "metadata": {
        "heading_collapsed": true,
        "hidden": true,
        "id": "iS7un_Lk-pyK",
        "colab_type": "text"
      },
      "cell_type": "markdown",
      "source": [
        "## 字符串(String)\n",
        "\n",
        "- 表示一段文本信息，字符的集合\n",
        "- 单、双、三引号(三个单引号或者三个双引号)括起来，前后引号的形式必须一样\n",
        "- 其中单、双引号必须在同一行，三引号则可括多行信息\n",
        "- 需要表达复杂的字符串时，可进行引号的嵌套，交替使用，或反斜杠转义"
      ]
    },
    {
      "metadata": {
        "heading_collapsed": true,
        "hidden": true,
        "id": "nACiQVTY-pyM",
        "colab_type": "text"
      },
      "cell_type": "markdown",
      "source": [
        "### 转义字符\n",
        "- 使用反斜杠“\\”对一些特殊字符进行转义\n",
        "\n",
        "\n",
        "1. \\n————换行\n",
        "2. \\ (在行尾)————续行符\n",
        "3. \\ \\————反斜杠符号\n",
        "4. \\ '————单引号\n",
        "5. \\ \"————双引号\n",
        "6. \\b————退格(Backspace)\n",
        "7. \\000————空\n",
        "8. \\r————回车\n",
        "9. \\f————换页\n",
        "10. \\0dd————八进制数，dd代表字符，如\\012表示换行\n",
        "11. \\xhh————十六进制数，hh代表字符，如\\x0a表示换行"
      ]
    },
    {
      "metadata": {
        "hidden": true,
        "id": "oBov6tE0-pyN",
        "colab_type": "code",
        "colab": {}
      },
      "cell_type": "code",
      "source": [
        "print(\"\\\"I love you\\\",He said\") # 反斜杆对\"进行转义\n",
        "\n",
        "print('He said\\n\"I love you\"') # 交替使用引号\n",
        "\n",
        "print('''\n",
        "酒入豪肠 七分化作月光，\n",
        "剩下的三分 啸成了剑气，\n",
        "绣口一吐 就是半个盛唐。\n",
        "''')"
      ],
      "execution_count": 0,
      "outputs": []
    },
    {
      "metadata": {
        "heading_collapsed": true,
        "hidden": true,
        "id": "Dp3vMCaJ-pyQ",
        "colab_type": "text"
      },
      "cell_type": "markdown",
      "source": [
        "### 字符串运算符\n",
        "\n",
        "1. +————字符串连接 \n",
        "2. *————重复输出字符串 \n",
        "3. []————通过索引获取字符串中字符\n",
        "4. [ : ]————截取字符串中的一部分，遵循左闭右开原则，str[0,2]是不包含第3个字符的\n",
        "5. in————成员运算符 - 如果字符串中包含给定的字符返回True\t\n",
        "6. not in————成员运算符 - 如果字符串中不包含给定的字符返回True\t\n",
        "7. r/R————原始字符串\n",
        "    * 原始字符串：所有的字符串都是直接按照字面的意思来使用，没有转义特殊或不能打印的字符。 原始字符串除在字符串的第一个引号前加上字母 r（可以大小写）以外，与普通字符串有着几乎完全相同的语法。\t\n",
        "8. %————格式字符串"
      ]
    },
    {
      "metadata": {
        "hidden": true,
        "scrolled": true,
        "id": "TPRVgHXD-pyR",
        "colab_type": "code",
        "colab": {}
      },
      "cell_type": "code",
      "source": [
        "print (r'\\n') # r/R在某些情况下很有用，如字符串包含“\\n”时\n",
        "\n",
        "a = \"Hello\"\n",
        "b = \"Python\"\n",
        " \n",
        "print(\"a + b 输出结果：\", a + b)\n",
        "print(\"a * 2 输出结果：\", a * 2)\n",
        "print(\"a[1] 输出结果：\", a[1])\n",
        "print(\"a[1:4] 输出结果：\", a[1:4])\n",
        " \n",
        "if( \"H\" in a) :\n",
        "    print(\"H 在变量 a 中\")\n",
        "else :\n",
        "    print(\"H 不在变量 a 中\")\n",
        " \n",
        "if( \"M\" not in a) :\n",
        "    print(\"M 不在变量 a 中\")\n",
        "else :\n",
        "    print(\"M 在变量 a 中\")"
      ],
      "execution_count": 0,
      "outputs": []
    },
    {
      "metadata": {
        "heading_collapsed": true,
        "hidden": true,
        "id": "1Qi8cVp6-pyW",
        "colab_type": "text"
      },
      "cell_type": "markdown",
      "source": [
        "### 字符串格式化\n",
        "\n",
        "* Python支持格式化字符串的输出。尽管这样可能会用到非常复杂的表达式，但最基本的用法是将一个值插入到一个有字符串格式符%s的字符串中\n",
        "* 在Python中，字符串格式化使用与C中sprintf函数一样的语法\n",
        "\n",
        "\n",
        "1. %c————格式化字符及其ASCII码\n",
        "2. %s————格式化字符串\n",
        "3. %d————格式化整数\n",
        "4. %u————格式化无符号整型\n",
        "5. %o————格式化无符号八进制数\n",
        "6. %x————格式化无符号十六进制数\n",
        "7. %X————格式化无符号十六进制数（大写）\n",
        "8. %f————格式化浮点数字，可指定小数点后的精度\n",
        "9. %e————用科学计数法格式化浮点数\n",
        "10. %E————作用同%e，用科学计数法格式化浮点数\n",
        "11. %g————%f和%e的简写\n",
        "12. %G————%F和%E的简写\n",
        "13. %p————用十六进制数格式化变量的地址"
      ]
    },
    {
      "metadata": {
        "hidden": true,
        "id": "py0eQLyB-pyX",
        "colab_type": "code",
        "colab": {}
      },
      "cell_type": "code",
      "source": [
        "print (\"我叫 %s 今年 %d 岁!\" % ('小明', 10))"
      ],
      "execution_count": 0,
      "outputs": []
    },
    {
      "metadata": {
        "heading_collapsed": true,
        "hidden": true,
        "id": "Wai6TVVN-pye",
        "colab_type": "text"
      },
      "cell_type": "markdown",
      "source": [
        "## 布尔值(Bool)\n",
        "\n",
        "- 表示真(True)或假(False)的值\n",
        "- 在Python中可化为数值，True表示1，False表示0\n",
        "    * 可对布尔值进行数值运算，如“False+1”的结果为1，但不建议此操作"
      ]
    },
    {
      "metadata": {
        "hidden": true,
        "id": "bLJBB8xw-pyg",
        "colab_type": "code",
        "colab": {}
      },
      "cell_type": "code",
      "source": [
        "False+1 # 相当于0+1"
      ],
      "execution_count": 0,
      "outputs": []
    },
    {
      "metadata": {
        "heading_collapsed": true,
        "hidden": true,
        "id": "TTk5_nIi-pyu",
        "colab_type": "text"
      },
      "cell_type": "markdown",
      "source": [
        "## 数据类型转换\n",
        "\n",
        "1. int(x)————将x转换成整数类型\n",
        "2. float(x)————将x转换成浮点数类型\n",
        "3. str(x)————将x转换为字符串\n",
        "4. complex(x,y)————将x和y转换为一个复数，实数部分为x，虚数部分为y。x和y是数字表达式，若没有y，则虚部为0\n",
        "5. repr(x)————将x转换为表达式字符串\n",
        "6. chr(x)————将整数x转换为一个字符\n",
        "7. ord(x)————将一个字符x转换为其对应的整数值\n",
        "8. hex(x)————将一个整数x转换为一个十六进制字符串\n",
        "9. oct(x)————将一个整数x转换为一个八进制字符串"
      ]
    },
    {
      "metadata": {
        "hidden": true,
        "id": "d5jJ-qMp-pyv",
        "colab_type": "code",
        "colab": {}
      },
      "cell_type": "code",
      "source": [
        "money_all = 56.75 + 72.91 + 88.50 + 26.37 + 68.51 #累加总计金额\n",
        "money_all_str = str(money_all) # 转换为字符串\n",
        "print(\"商品总金额为：\" + money_all_str)\n",
        "money_real = int(money_all) # 进行抹零\n",
        "money_real_str = str(money_real) # 转换为字符串\n",
        "print(\"实收金额为：\" + money_real_str)"
      ],
      "execution_count": 0,
      "outputs": []
    },
    {
      "metadata": {
        "heading_collapsed": true,
        "id": "bnrQu_bI-py0",
        "colab_type": "text"
      },
      "cell_type": "markdown",
      "source": [
        "# 运算符\n",
        "\n",
        "1. 算术运算符\n",
        "2. 赋值运算符\n",
        "3. 比较(关系)运算符\n",
        "4. 逻辑运算符\n",
        "5. 位运算符\n",
        "6. 成员运算符\n",
        "7. 身份运算符"
      ]
    },
    {
      "metadata": {
        "heading_collapsed": true,
        "hidden": true,
        "id": "zDGfGhid-py1",
        "colab_type": "text"
      },
      "cell_type": "markdown",
      "source": [
        "## 算术运算符\n",
        "\n",
        "1. +（加）、-（减）、\\*（乘）、/（除）\n",
        "2. //————取整除，俗称地板除，由英文名 floor 而得\n",
        "3. **————幂,即返回x的y次方，$x^{y}$\n",
        "4. %————求余，又称取模"
      ]
    },
    {
      "metadata": {
        "hidden": true,
        "run_control": {
          "marked": false
        },
        "id": "KKLyFsVP-py3",
        "colab_type": "code",
        "colab": {}
      },
      "cell_type": "code",
      "source": [
        "a = 10 // 3  # 返回商的整数部分，应为3\n",
        "b = 11 % 3  # 返回除法的余数，应为2\n",
        "c = 10**2  # 返回x的y次方，应为100\n",
        "\n",
        "print(a)\n",
        "print(b)\n",
        "print(c)"
      ],
      "execution_count": 0,
      "outputs": []
    },
    {
      "metadata": {
        "heading_collapsed": true,
        "hidden": true,
        "id": "17doMLKp-py_",
        "colab_type": "text"
      },
      "cell_type": "markdown",
      "source": [
        "## 比较运算符\n",
        "\n",
        "* 所有比较运算符返回1表示真，返回0表示假。这分别与特殊的变量True和False等价。注意，这些变量名的大写\n",
        "\n",
        "\n",
        "1. ==————等于 - 比较对象是否相等\n",
        "2. !=————不等于 - 比较两个对象是否不相等\n",
        "3. \\>————大于 - 返回x是否大于y\n",
        "4. <————小于 - 返回x是否小于y\n",
        "5. \\>=————大于等于 - 返回x是否大于或等于y\n",
        "6. <=————小于等于 - 返回x是否小于或等于y"
      ]
    },
    {
      "metadata": {
        "hidden": true,
        "id": "EQuDEr9Q-pzC",
        "colab_type": "code",
        "colab": {}
      },
      "cell_type": "code",
      "source": [
        "a = 21\n",
        "b = 10\n",
        "c = 0\n",
        " \n",
        "if ( a == b ):\n",
        "   print (\"1 - a 等于 b\")\n",
        "else:\n",
        "   print (\"1 - a 不等于 b\")\n",
        " \n",
        "if ( a != b ):\n",
        "   print (\"2 - a 不等于 b\")\n",
        "else:\n",
        "   print (\"2 - a 等于 b\")\n",
        " \n",
        "if ( a < b ):\n",
        "   print (\"3 - a 小于 b\")\n",
        "else:\n",
        "   print (\"3 - a 大于等于 b\")\n",
        " \n",
        "if ( a > b ):\n",
        "   print (\"4 - a 大于 b\")\n",
        "else:\n",
        "   print (\"4 - a 小于等于 b\")\n",
        " \n",
        "# 修改变量 a 和 b 的值\n",
        "a = 5;\n",
        "b = 20;\n",
        "if ( a <= b ):\n",
        "   print (\"5 - a 小于等于 b\")\n",
        "else:\n",
        "   print (\"5 - a 大于  b\")\n",
        " \n",
        "if ( b >= a ):\n",
        "   print (\"6 - b 大于等于 a\")\n",
        "else:\n",
        "   print (\"6 - b 小于 a\")"
      ],
      "execution_count": 0,
      "outputs": []
    },
    {
      "metadata": {
        "heading_collapsed": true,
        "hidden": true,
        "id": "VJGzZAPJ-pzN",
        "colab_type": "text"
      },
      "cell_type": "markdown",
      "source": [
        "## 赋值运算符\n",
        "\n",
        "1. =————简单的赋值运算符\n",
        "2. +=————加法赋值运算符\n",
        "3. -=————减法赋值运算符\n",
        "4. *=————乘法赋值运算符\n",
        "5. /=————除法赋值运算符\n",
        "6.%=————取模赋值运算符\n",
        "7. **=————幂赋值运算符\n",
        "8. //=————取整除赋值运算符"
      ]
    },
    {
      "metadata": {
        "hidden": true,
        "id": "q4xtgKqe-pzP",
        "colab_type": "code",
        "colab": {}
      },
      "cell_type": "code",
      "source": [
        "a = 21\n",
        "b = 10\n",
        "c = 0\n",
        " \n",
        "c = a + b\n",
        "print (\"1 - c 的值为：\", c)\n",
        " \n",
        "c += a\n",
        "print (\"2 - c 的值为：\", c)\n",
        " \n",
        "c *= a\n",
        "print (\"3 - c 的值为：\", c)\n",
        " \n",
        "c /= a \n",
        "print (\"4 - c 的值为：\", c)\n",
        " \n",
        "c = 2\n",
        "c %= a\n",
        "print (\"5 - c 的值为：\", c)\n",
        " \n",
        "c **= a\n",
        "print (\"6 - c 的值为：\", c)\n",
        " \n",
        "c //= a\n",
        "print (\"7 - c 的值为：\", c)"
      ],
      "execution_count": 0,
      "outputs": []
    },
    {
      "metadata": {
        "heading_collapsed": true,
        "hidden": true,
        "id": "yrTisnWS-pzS",
        "colab_type": "text"
      },
      "cell_type": "markdown",
      "source": [
        "## 逻辑运算符\n",
        "\n",
        "1. and————x and y，布尔\"与\" - 如果x为False，x and y 返回False，否则它返回y的计算值\n",
        "2. or————x or y\t布尔\"或\" - 如果x是True，它返回x的值，否则它返回y的计算值\n",
        "3. not————not x\t布尔\"非\" - 如果x为True，返回False 。如果x为False，它返回 True"
      ]
    },
    {
      "metadata": {
        "hidden": true,
        "id": "QGlZkOEj-pzU",
        "colab_type": "code",
        "colab": {}
      },
      "cell_type": "code",
      "source": [
        "a = 10\n",
        "b = 20\n",
        " \n",
        "if ( a and b ):\n",
        "   print (\"1 - 变量 a 和 b 都为 true\")\n",
        "else:\n",
        "   print (\"1 - 变量 a 和 b 有一个不为 true\")\n",
        " \n",
        "if ( a or b ):\n",
        "   print (\"2 - 变量 a 和 b 都为 true，或其中一个变量为 true\")\n",
        "else:\n",
        "   print (\"2 - 变量 a 和 b 都不为 true\")\n",
        " \n",
        "# 修改变量 a 的值\n",
        "a = 0\n",
        "if ( a and b ):\n",
        "   print (\"3 - 变量 a 和 b 都为 true\")\n",
        "else:\n",
        "   print (\"3 - 变量 a 和 b 有一个不为 true\")\n",
        " \n",
        "if ( a or b ):\n",
        "   print (\"4 - 变量 a 和 b 都为 true，或其中一个变量为 true\")\n",
        "else:\n",
        "   print (\"4 - 变量 a 和 b 都不为 true\")\n",
        " \n",
        "if not( a and b ):\n",
        "   print (\"5 - 变量 a 和 b 都为 false，或其中一个变量为 false\")\n",
        "else:\n",
        "   print (\"5 - 变量 a 和 b 都为 true\")"
      ],
      "execution_count": 0,
      "outputs": []
    },
    {
      "metadata": {
        "heading_collapsed": true,
        "hidden": true,
        "id": "nOKaGNdm-pzd",
        "colab_type": "text"
      },
      "cell_type": "markdown",
      "source": [
        "## 位运算符\n",
        "\n",
        "* 位运算符是把数字看作二进制来进行计算的\n",
        "\n",
        "\n",
        "1. &————“位与”运算符：参与运算的两个值,如果两个相应位都为1,则该位的结果为1,否则为0\n",
        "2. |————“位或”运算符：只要对应的二个二进位有一个为1时，结果位就为1\n",
        "3. ^————“位异或”运算符：当两对应的二进位相异时，结果为1\n",
        "4. ~————“位取反”运算符：对数据的每个二进制位取反,即把1变为0,把0变为1。~x类似于-x-1\n",
        "5. <<————“左移动”运算符：运算数的各二进位全部左移若干位，由\"<<\"右边的数指定移动的位数，高位丢弃，低位补0\n",
        "6. \\>>————“右移动”运算符：把\">>\"左边的运算数的各二进位全部右移若干位，\">>\"右边的数指定移动的位数"
      ]
    },
    {
      "metadata": {
        "hidden": true,
        "id": "erxHEnuR-pze",
        "colab_type": "code",
        "colab": {}
      },
      "cell_type": "code",
      "source": [
        "a = 60            # 60 = 0011 1100 \n",
        "b = 13            # 13 = 0000 1101 \n",
        "c = 0\n",
        " \n",
        "c = a & b;        # 12 = 0000 1100\n",
        "print (\"1 - c 的值为：\", c)\n",
        " \n",
        "c = a | b;        # 61 = 0011 1101 \n",
        "print (\"2 - c 的值为：\", c)\n",
        " \n",
        "c = a ^ b;        # 49 = 0011 0001\n",
        "print (\"3 - c 的值为：\", c)\n",
        " \n",
        "c = ~a;           # -61 = 1100 0011\n",
        "print (\"4 - c 的值为：\", c)\n",
        " \n",
        "c = a << 2;       # 240 = 1111 0000\n",
        "print (\"5 - c 的值为：\", c)\n",
        " \n",
        "c = a >> 2;       # 15 = 0000 1111\n",
        "print (\"6 - c 的值为：\", c)"
      ],
      "execution_count": 0,
      "outputs": []
    },
    {
      "metadata": {
        "heading_collapsed": true,
        "hidden": true,
        "id": "d3o_RzSu-pzj",
        "colab_type": "text"
      },
      "cell_type": "markdown",
      "source": [
        "## 成员运算符\n",
        "\n",
        "* Python还支持成员运算符，测试实例中包含了一系列的成员，包括字符串，列表或元组\n",
        "\n",
        "\n",
        "1. in————如果在指定的序列中找到值返回True，否则返回False。x在y序列中,如果x在y序列中返回True\n",
        "2. not in————如果在指定的序列中没有找到值返回True，否则返回False。x不在y序列中，如果x不在y序列中返回True"
      ]
    },
    {
      "metadata": {
        "hidden": true,
        "id": "e6Hfv1zd-pzq",
        "colab_type": "code",
        "colab": {}
      },
      "cell_type": "code",
      "source": [
        "a = 10\n",
        "b = 20\n",
        "list = [1, 2, 3, 4, 5 ];\n",
        " \n",
        "if ( a in list ):\n",
        "   print (\"1 - 变量 a 在给定的列表中 list 中\")\n",
        "else:\n",
        "   print (\"1 - 变量 a 不在给定的列表中 list 中\")\n",
        " \n",
        "if ( b not in list ):\n",
        "   print (\"2 - 变量 b 不在给定的列表中 list 中\")\n",
        "else:\n",
        "   print (\"2 - 变量 b 在给定的列表中 list 中\")\n",
        " \n",
        "# 修改变量 a 的值\n",
        "a = 2\n",
        "if ( a in list ):\n",
        "   print (\"3 - 变量 a 在给定的列表中 list 中\")\n",
        "else:\n",
        "   print (\"3 - 变量 a 不在给定的列表中 list 中\")"
      ],
      "execution_count": 0,
      "outputs": []
    },
    {
      "metadata": {
        "heading_collapsed": true,
        "hidden": true,
        "id": "AQ6kZtzE-pzz",
        "colab_type": "text"
      },
      "cell_type": "markdown",
      "source": [
        "## 身份运算符\n",
        "\n",
        "* 身份运算符用于比较两个对象的存储单元\n",
        "\n",
        "\n",
        "1. is————判断两个标识符是不是引用自一个对象。x is y,类似 id(x) == id(y),如果引用的是同一个对象则返回True，否则返回False\n",
        "2. is not————判断两个标识符是不是引用自不同对象。x is not y，类似 id(a)!=id(b)。如果引用的不是同一个对象则返回结果True，否则返回False\n",
        "    * 注： id() 函数用于获取对象内存地址\n",
        "    * is 与 == 区别：is 用于判断两个变量引用对象是否为同一个， == 用于判断引用变量的值是否相等"
      ]
    },
    {
      "metadata": {
        "hidden": true,
        "id": "ip8uKIEa-pz0",
        "colab_type": "code",
        "colab": {}
      },
      "cell_type": "code",
      "source": [
        "a = 20\n",
        "b = 20\n",
        " \n",
        "if ( a is b ):\n",
        "   print (\"1 - a 和 b 有相同的标识\")\n",
        "else:\n",
        "   print (\"1 - a 和 b 没有相同的标识\")\n",
        " \n",
        "if ( id(a) == id(b) ):\n",
        "   print (\"2 - a 和 b 有相同的标识\")\n",
        "else:\n",
        "   print (\"2 - a 和 b 没有相同的标识\")\n",
        " \n",
        "# 修改变量 b 的值\n",
        "b = 30\n",
        "if ( a is b ):\n",
        "   print (\"3 - a 和 b 有相同的标识\")\n",
        "else:\n",
        "   print (\"3 - a 和 b 没有相同的标识\")\n",
        " \n",
        "if ( a is not b ):\n",
        "   print (\"4 - a 和 b 没有相同的标识\")\n",
        "else:\n",
        "   print (\"4 - a 和 b 有相同的标识\")"
      ],
      "execution_count": 0,
      "outputs": []
    },
    {
      "metadata": {
        "heading_collapsed": true,
        "hidden": true,
        "id": "oX-IZYm2-pz5",
        "colab_type": "text"
      },
      "cell_type": "markdown",
      "source": [
        "## 运算符优先级\n",
        "\n",
        "* 与数学运算相似，从高到低，从左往右，可使用小括号\n",
        "* 编写程序时尽量使用括号来限定运算次序，以免运算次序发生错误\n",
        "    * 下表的同一行具有相同优先级\n",
        "\n",
        "\n",
        "1.  **————指数幂 (最高优先级)\n",
        "2. ~、-、+————取反、负号、正号\n",
        "3. *、/、%、//\t————算术运算的乘、除、取模、取整除\n",
        "4. -、+————算术运算的减法、加法\n",
        "5. <<、>>————位运算的左移、右移\n",
        "6. &————位运算的位与\n",
        "7. ^————位运算的位异或\n",
        "8. |————位运算的位或\n",
        "9. <=、<、>、>=、==、!=————比较运算符\n",
        "10. =、%=、/=、//=、-=、+=、*=、**=————赋值运算符\n",
        "11. is、is not————身份运算符\n",
        "12. in、not in————成员运算符\n",
        "13. and、or、not————逻辑运算的与、或、非"
      ]
    },
    {
      "metadata": {
        "hidden": true,
        "id": "7bJqrYmz-pz7",
        "colab_type": "code",
        "colab": {}
      },
      "cell_type": "code",
      "source": [
        "a = 20\n",
        "b = 10\n",
        "c = 15\n",
        "d = 5\n",
        "e = 0\n",
        " \n",
        "e = (a + b) * c / d       #( 30 * 15 ) / 5\n",
        "print (\"(a + b) * c / d 运算结果为：\",  e)\n",
        " \n",
        "e = ((a + b) * c) / d     # (30 * 15 ) / 5\n",
        "print (\"((a + b) * c) / d 运算结果为：\",  e)\n",
        " \n",
        "e = (a + b) * (c / d);    # (30) * (15/5)\n",
        "print (\"(a + b) * (c / d) 运算结果为：\",  e)\n",
        " \n",
        "e = a + (b * c) / d;      #  20 + (150/5)\n",
        "print (\"a + (b * c) / d 运算结果为：\",  e)"
      ],
      "execution_count": 0,
      "outputs": []
    },
    {
      "metadata": {
        "id": "33MKOFI6-pz_",
        "colab_type": "text"
      },
      "cell_type": "markdown",
      "source": [
        "# 列表(List)和元组(Tuple)\n",
        "\n",
        "* 列表和元组是Python中最常见的内置序列类型\n",
        "* 列表可修改；元组不可直接修改，除非整体替换\n",
        "* 列表可用append()、extend()、insert()、remove()和pop()等方法添加和修改元素；而元组不能\n",
        "* 列表可切片访问和修改其中的元素；元组只支持切片访问\n",
        "* 元组比列表的访问和处理速度快。若只访问不修改其元素，建议使用元组\n",
        "* 列表不能作为字典的键；元组可以"
      ]
    },
    {
      "metadata": {
        "heading_collapsed": true,
        "id": "6DB-1CO--p0A",
        "colab_type": "text"
      },
      "cell_type": "markdown",
      "source": [
        "## 序列(Sequence)\n",
        "\n",
        "* 序列是Python中最基本的数据结构，是用于存放多个值的连续内存空间，并按一定顺序排列\n",
        "* 序列都可以进行的操作包括索引、切片、加，乘、检查成员\n",
        "* Python已经内置确定序列的长度以及确定最大和最小的元素的方法"
      ]
    },
    {
      "metadata": {
        "heading_collapsed": true,
        "hidden": true,
        "id": "dvGJvX1Z-p0B",
        "colab_type": "text"
      },
      "cell_type": "markdown",
      "source": [
        "### 索引\n",
        "\n",
        "* 序列中每个值(元素)都分配一个数字称为位置或索引，第一个索引是0，第二个索引是1，依此类推，通过索引可访问序列中任何一个元素\n",
        "* Python的索引可以是负数。这个索引从右往左计数，即最后一个元素的索引值为-1，倒数第二个元素的索引值为-2，以此类推"
      ]
    },
    {
      "metadata": {
        "hidden": true,
        "id": "Jdg9W4cb-p0D",
        "colab_type": "code",
        "colab": {}
      },
      "cell_type": "code",
      "source": [
        "name = [\"赵\",\"钱\",\"孙\",\"李\",\"周\",\"吴\",\"郑\",\"王\",\"冯\",\"陈\",\"褚\",\"卫\"]\n",
        "\n",
        "print(name[2]) # 输出第3个元素\n",
        "print(name[-1]) # 输出最后一个元素"
      ],
      "execution_count": 0,
      "outputs": []
    },
    {
      "metadata": {
        "heading_collapsed": true,
        "hidden": true,
        "id": "mWuZ8SSZ-p0G",
        "colab_type": "text"
      },
      "cell_type": "markdown",
      "source": [
        "### 切片\n",
        "\n",
        "* 切片是访问序列中元素的另一种方法，可访问一定范围内的元素\n",
        "* 切片可以生成一个新的序列\n",
        "* 切片的语法格式如下：\n",
        "\n",
        "        sname[start:end:step]\n",
        "    \n",
        "    1. sname表示序列的名称\n",
        "    2. start表示切片的起始位置(包括该位置)，若不指定则默认为0\n",
        "    3. end表示切片的截止位置(不包括该位置)，若不指定则默认为序列的长度\n",
        "    4. step表示切片的步长，若省略则默认为1，此时最后一个冒号也可省略"
      ]
    },
    {
      "metadata": {
        "hidden": true,
        "id": "MT-q5EXY-p0M",
        "colab_type": "code",
        "colab": {}
      },
      "cell_type": "code",
      "source": [
        "name = [\"赵\",\"钱\",\"孙\",\"李\",\"周\",\"吴\",\"郑\",\"王\",\"冯\",\"陈\",\"褚\",\"卫\"]\n",
        "\n",
        "print(name[1:6]) # 获取第2个到第6个元素\n",
        "print(name[0:10:3]) # 获取第1个、第4个、第7个和第10个元素"
      ],
      "execution_count": 0,
      "outputs": []
    },
    {
      "metadata": {
        "heading_collapsed": true,
        "hidden": true,
        "id": "9RRSdXok-p0S",
        "colab_type": "text"
      },
      "cell_type": "markdown",
      "source": [
        "### 序列相加\n",
        "\n",
        "* Python支持两种相同类型的序列相加\n",
        "    * 相同类型的序列指同为列表、元组或集合等，序列中的元素类型可以不同"
      ]
    },
    {
      "metadata": {
        "hidden": true,
        "id": "0vv91LR5-p0U",
        "colab_type": "code",
        "colab": {}
      },
      "cell_type": "code",
      "source": [
        "str1 = [\"甲\",\"乙\",\"丙\",\"丁\",\"戊\",\"己\",\"庚\",\"辛\",\"壬\",\"癸\"]\n",
        "str2 = [\"子\",\"丑\",\"寅\",\"卯\",\"辰\",\"巳\",\"午\",\"未\",\"申\",\"酉\",\"戌\",\"亥\"]\n",
        "num = [1,2,3,4,5,6]\n",
        "\n",
        "print(str2 + num)"
      ],
      "execution_count": 0,
      "outputs": []
    },
    {
      "metadata": {
        "heading_collapsed": true,
        "hidden": true,
        "id": "l8WZAI29-p0i",
        "colab_type": "text"
      },
      "cell_type": "markdown",
      "source": [
        "### 乘法\n",
        "\n",
        "* Python中用一个数字乘以一个序列会生成一个新的序列"
      ]
    },
    {
      "metadata": {
        "hidden": true,
        "id": "hDyuVB9A-p0l",
        "colab_type": "code",
        "colab": {}
      },
      "cell_type": "code",
      "source": [
        "phone = [\"华为\",\"一加\",\"小米\",\"苹果\",\"三星\"]\n",
        "\n",
        "print(phone * 2)"
      ],
      "execution_count": 0,
      "outputs": []
    },
    {
      "metadata": {
        "heading_collapsed": true,
        "hidden": true,
        "id": "SB-gqd0r-p0s",
        "colab_type": "text"
      },
      "cell_type": "markdown",
      "source": [
        "### 检查成员\n",
        "\n",
        "* Python中可用关键字in检查某个元素是否包含在该序列中。语法格式如下：\n",
        "\n",
        "        变量 in 序列"
      ]
    },
    {
      "metadata": {
        "hidden": true,
        "id": "5r9XKNxG-p0t",
        "colab_type": "code",
        "colab": {}
      },
      "cell_type": "code",
      "source": [
        "name = [\"赵\",\"钱\",\"孙\",\"李\",\"周\",\"吴\",\"郑\",\"王\",\"冯\",\"陈\",\"褚\",\"卫\"]\n",
        "\n",
        "print(\"赵\" in name)\n",
        "print(\"赵\" not in name)"
      ],
      "execution_count": 0,
      "outputs": []
    },
    {
      "metadata": {
        "heading_collapsed": true,
        "hidden": true,
        "id": "UEleNwsD-p01",
        "colab_type": "text"
      },
      "cell_type": "markdown",
      "source": [
        "### 计算序列的长度、最值\n",
        "\n",
        "1. len()————计算序列长度，即返回序列包含几个元素\n",
        "2. max()————返回序列中最大的元素\n",
        "3. min()————返回序列中最小的元素\n",
        "4. list()————将序列转换成列表\n",
        "5. sum()————元素求和\n",
        "6. sorted()————对元素进行排序\n",
        "7. reversed()————反向序列中的元素\n",
        "8. enumerate()————将序列组合为一个索引序列，多用于for循环中"
      ]
    },
    {
      "metadata": {
        "hidden": true,
        "id": "MRFE-Q_Q-p02",
        "colab_type": "code",
        "colab": {}
      },
      "cell_type": "code",
      "source": [
        "num = [2,4,5,7,11,14,45,9.9,-1,0,32]\n",
        "\n",
        "print(\"该序列的长度为\",len(num))\n",
        "print(\"序列\",num,\"中最大值是\",max(num))\n",
        "print(sum(num))"
      ],
      "execution_count": 0,
      "outputs": []
    },
    {
      "metadata": {
        "id": "RGQi-Lko-p0_",
        "colab_type": "text"
      },
      "cell_type": "markdown",
      "source": [
        "## 列表\n",
        "\n",
        "* 形式上列表的元素都在方括号内，逗号隔开\n",
        "* 内容上数字、字符串、列表、元组等不同类型的元素都可放入\n",
        "* Python的列表非常灵活，示例如下：\n",
        "        [1,\"Python\",[A,B],(a,b)]"
      ]
    },
    {
      "metadata": {
        "heading_collapsed": true,
        "id": "kmVQ1tER-p1C",
        "colab_type": "text"
      },
      "cell_type": "markdown",
      "source": [
        "### 列表的创建和删除\n",
        "\n",
        "1. Python中可创建空列表，如：\n",
        "        emptylist = []\n",
        "        \n",
        "2. Python中list()函数的语法格式如下：\n",
        "        list(data)\n",
        "    * data表示可转换为列表的数据，类型可为range对象、字符串、元组或其他可迭代的数据\n",
        "\n",
        "3. 可用del语句将已创建的列表删除\n",
        "    * del语句并不常用，因为Python自带的垃圾回收机制会自动销毁不用的列表   "
      ]
    },
    {
      "metadata": {
        "hidden": true,
        "id": "RzlDuPmg-p1D",
        "colab_type": "code",
        "colab": {}
      },
      "cell_type": "code",
      "source": [
        "goddess_name = [\"刘亦菲\",\"李冰冰\",\"韩雪\"]\n",
        "del goddess_name\n",
        "\n",
        "list(range(10,20,2)) # 创建一个10～20(不包括20)所有偶数的列表"
      ],
      "execution_count": 0,
      "outputs": []
    },
    {
      "metadata": {
        "heading_collapsed": true,
        "id": "gtx74Go4-p1G",
        "colab_type": "text"
      },
      "cell_type": "markdown",
      "source": [
        "### 访问列表元素\n",
        "* 索引、切片等\n",
        "\n",
        "### 遍历列表\n",
        "\n",
        "1.  直接使用for循环实现，语法如下：\n",
        "        for item in listname:\n",
        "            # 输出item\n",
        "    * 只能输出元素的值\n",
        "\n",
        "2. 使用for循环和enumerate()函数实现，语法如下：\n",
        "        for index,item in enumerate(listname):\n",
        "            # 输出index和item\n",
        "    * index用于保存元素的索引"
      ]
    },
    {
      "metadata": {
        "hidden": true,
        "scrolled": true,
        "id": "8GEKJ3V6-p1I",
        "colab_type": "code",
        "colab": {}
      },
      "cell_type": "code",
      "source": [
        "goddess_name = [\"刘亦菲\",\"李冰冰\",\"韩雪\"]\n",
        "\n",
        "for index,item in enumerate(goddess_name):\n",
        "    print(index,item)"
      ],
      "execution_count": 0,
      "outputs": []
    },
    {
      "metadata": {
        "heading_collapsed": true,
        "id": "GZf2WezG-p1L",
        "colab_type": "text"
      },
      "cell_type": "markdown",
      "source": [
        "### 添加、修改和删除列表元素\n",
        "\n",
        "一. 添加元素\n",
        "1. 通过“+”号将两个序列连接\n",
        "\n",
        "2. 列表对象的append()方法用于在列表末尾追加元素，语法如下：\n",
        "        listname.append(obj)\n",
        "    * obj为要添加到列表末尾的对象\n",
        "\n",
        "3. 列表对象的extend()方法将一个列表中的所有元素添加到另一个列表中，语法如下：\n",
        "        listname.extend(seq)\n",
        "    * seq为要添加的列表\n",
        "    \n",
        "二. 修改元素，只需通过索引获取该元素，再为其重新赋值即可\n",
        "\n",
        "三. 删除元素\n",
        "1. 根据索引，使用del语句删除\n",
        "\n",
        "2. 根据元素值，使用列表对象的remove()方法删除，但之前最好判断该元素是否存在\n",
        "        if listname.count(value)>0: # 判断元素是否存在\n",
        "            listname.remove(value) # 移除指定元素\n",
        "    * 列表对象的count()方法用于判断指定元素出现的次数，结果为0表示不存在该元素"
      ]
    },
    {
      "metadata": {
        "hidden": true,
        "id": "gwioZrMw-p1M",
        "colab_type": "code",
        "colab": {}
      },
      "cell_type": "code",
      "source": [
        "goddess_name = [\"刘亦菲\",\"李冰冰\",\"张俪\"]\n",
        "goddess_name1 = [\"王丽坤\",\"黄圣依\"]\n",
        "\n",
        "# 通过“+”号添加元素\n",
        "goddess_name = goddess_name + [\"张天爱\",\"韩雪\"]\n",
        "print(goddess_name)\n",
        "\n",
        "# 列表对象的extend()方法添加所有元素\n",
        "goddess_name.extend(goddess_name1)\n",
        "print(goddess_name)\n",
        "\n",
        "# 列表对象的append()方法添加单个元素\n",
        "goddess_name.append(\"冯提莫\")\n",
        "print(goddess_name)\n",
        "\n",
        "# 通过索引修改元素\n",
        "goddess_name[-1] = \"蕊希\"\n",
        "print(goddess_name)\n",
        "\n",
        "# 根据索引删除元素\n",
        "del goddess_name[-2]\n",
        "print(goddess_name)\n",
        "\n",
        "# 根据元素值删除元素\n",
        "name = \"李冰冰\"\n",
        "if goddess_name.count(name) > 0:\n",
        "    goddess_name.remove(name)\n",
        "print(goddess_name)"
      ],
      "execution_count": 0,
      "outputs": []
    },
    {
      "metadata": {
        "heading_collapsed": true,
        "id": "pJF8_JFk-p1P",
        "colab_type": "text"
      },
      "cell_type": "markdown",
      "source": [
        "### 对列表进行统计计算\n",
        "\n",
        "1. 列表对象的count()方法获取指定元素出现的次数，语法如下：\n",
        "        listname.count(obj)\n",
        "    * 此处的obj要完整的元素值，是精确匹配            \n",
        "        \n",
        "2. 列表对象的index()方法获取指定元素首次出现的索引，语法如下：\n",
        "        listname.index(obj)\n",
        "    * 此处的obj要完整的元素值，是精确匹配\n",
        "    \n",
        "3. sum()函数求元素和，语法如下：\n",
        "        sum(iterable[,start])\n",
        "    * iterable表示可迭代对象，如：列表、元组、集合\n",
        "    * start表示指定相加的数，若不指定则默认为0"
      ]
    },
    {
      "metadata": {
        "hidden": true,
        "id": "wpkQsNtG-p1T",
        "colab_type": "code",
        "colab": {}
      },
      "cell_type": "code",
      "source": [
        "milk = [\"旺仔\",\"娃哈哈\",\"李子园\",\"旺仔\",\"伊利\",\"旺仔\",\"蒙牛\"]\n",
        "grade = [100,98,70,86,55]\n",
        "\n",
        "# 列表对象的count()方法获取指定元素出现的次数\n",
        "a = \"旺仔\"\n",
        "print(\"{0}出现\".format(a),milk.count(a),\"次\")\n",
        "      \n",
        "# 列表对象的index()方法获取指定元素首次出现的索引\n",
        "b = \"李子园\"\n",
        "print(\"{0}首次出现的索引值是\".format(b),milk.index(b),\"即列表中的第\",milk.index(b)+1,\"个\")\n",
        "\n",
        "# sum()函数求元素和 \n",
        "print(sum(grade,-100)) # grade列表求和后再加-100\n",
        "print(sum([0,1,2,3,4],2)) # 列表计算总和后再加2\n",
        "print(sum((2, 3, 4),1)) # 元组计算总和后再加1"
      ],
      "execution_count": 0,
      "outputs": []
    },
    {
      "metadata": {
        "heading_collapsed": true,
        "id": "1PiOWqLk-p1Z",
        "colab_type": "text"
      },
      "cell_type": "markdown",
      "source": [
        "### 对列表进行排序\n",
        "\n",
        "1. 列表对象的sort()方法对元素排序，语法如下：\n",
        "        listname.sort(key=None,reverse=False)\n",
        "\n",
        "2. 内置sorted()函数对元素排序，语法如下：\n",
        "        sorted(iterable,key=None,reverse=False)\n",
        "\n",
        "    * key表示一个从每个列表元素中提取一个用于比较的键(如设置“key=str.lower”表示排序时不区分字母大小写)\n",
        "    * reverse是可选参数，True降，False升，默认升\n",
        "    * 对字符串列表排序时，先大写，后小写\n",
        "    * sort()方法对中文支持不好，不能直接使用\n",
        "    * 列表对象的sort()方法内置sorted()函数的作用基本相同。sort()方法会改变原列表的元素顺序；sorted()函数会建立一个排序后的原列表副本"
      ]
    },
    {
      "metadata": {
        "hidden": true,
        "id": "J9aFAQDV-p1g",
        "colab_type": "code",
        "colab": {}
      },
      "cell_type": "code",
      "source": [
        "char = [\"cat\",\"dog\",\"Tom\",\"Bob\",\"pet\",\"bird\",\"Lily\"]\n",
        "\n",
        "char.sort()\n",
        "print(\"默认区分字母大小写、升序：\",char)\n",
        "\n",
        "print(\"不区分大小写，降序：\",sorted(char,key=str.lower,reverse=True))"
      ],
      "execution_count": 0,
      "outputs": []
    },
    {
      "metadata": {
        "heading_collapsed": true,
        "id": "iidS7uVN-p1o",
        "colab_type": "text"
      },
      "cell_type": "markdown",
      "source": [
        "### 列表推导式\n",
        "\n",
        "* 使用列表推导式可以快速生成一个列表，或者根据某个列表生成满足指定需求的列表\n",
        "\n",
        "\n",
        "1. 生成指定范围的数值列表，语法如下：\n",
        "        list = [Expression for var in range]\n",
        "\n",
        "2. 根据原列表生成指定需求的新列表，语法如下：\n",
        "        newlist = [Expression for var in list]\n",
        "\n",
        "3. 从原列表中选择符合条件的元素组成新列表，语法如下：\n",
        "        newlist = [Expression for var in list if condition]\n",
        "\n",
        "    * Expression是表达式，用于计算新列表的元素\n",
        "    * condition是条件表达式，用于指定筛选条件"
      ]
    },
    {
      "metadata": {
        "hidden": true,
        "id": "Af7n4f8b-p1p",
        "colab_type": "code",
        "colab": {}
      },
      "cell_type": "code",
      "source": [
        "# 生成含有6个随机数(范围1～100)的列表\n",
        "import random # 导入random标准库\n",
        "randomnumber = [random.randint(1,100) for i in range(6)]\n",
        "print(\"生成的随机数为：\",randomnumber)\n",
        "\n",
        "# 将随机数列表中的数值乘以y\n",
        "y = 2\n",
        "newrandomnumber = [int(x*y) for x in randomnumber]\n",
        "print(\"随机数乘以{0}后为：\".format(y),newrandomnumber)\n",
        "\n",
        "# 将新随机数列表中大于100的元素挑出来\n",
        "print(\"新随机数列表中大于100的有：\",[i for i in newrandomnumber if i > 100])"
      ],
      "execution_count": 0,
      "outputs": []
    },
    {
      "metadata": {
        "heading_collapsed": true,
        "id": "sTFoqB3u-p1s",
        "colab_type": "text"
      },
      "cell_type": "markdown",
      "source": [
        "## 元组\n",
        "\n",
        "* 形式上列表的元素都在小括号内，逗号隔开\n",
        "* 内容上数字、字符串、列表、元组等不同类型的元素都可放入\n",
        "* Python的列表非常灵活，示例如下：\n",
        "        (1,\"Python\",(a,b),[A,B])"
      ]
    },
    {
      "metadata": {
        "heading_collapsed": true,
        "hidden": true,
        "id": "dIkY57J1-p1t",
        "colab_type": "text"
      },
      "cell_type": "markdown",
      "source": [
        "### 元组的创建和删除\n",
        "\n",
        "1. 实际上元组的小括号并非必需，只要将一组值用逗号分隔开，Python就认为它是元组\n",
        "\n",
        "2. Python中可创建空元组，如：\n",
        "        emptytuple = ()\n",
        "\n",
        "3. Python中tuple()函数的语法格式如下：\n",
        "        tuple(data)\n",
        "    * data表示可转换为元组的数据，类型可为range对象、字符串、元组或其他可迭代的数据\n",
        "\n",
        "4. 可用del语句将已创建的元组删除\n",
        "    * del语句并不常用，因为Python自带的垃圾回收机制会自动销毁不用的元组"
      ]
    },
    {
      "metadata": {
        "hidden": true,
        "id": "VVmwoJF3-p1u",
        "colab_type": "code",
        "colab": {}
      },
      "cell_type": "code",
      "source": [
        "# 只要加逗号就可以是元组\n",
        "language = \"Python\", \n",
        "print(\"language的类型是\",type(language))\n",
        "\n",
        "# 创建一个10～20(不包括20)之间所有偶数的元组\n",
        "print(tuple(range(10,20,2)))"
      ],
      "execution_count": 0,
      "outputs": []
    },
    {
      "metadata": {
        "heading_collapsed": true,
        "hidden": true,
        "id": "BVnPtldy-p11",
        "colab_type": "text"
      },
      "cell_type": "markdown",
      "source": [
        "### 访问元组元素\n",
        "\n",
        "* 索引、切片、遍历等\n",
        "\n",
        "### 修改元组元素\n",
        "\n",
        "* 不能修改单个元素值，只能重新赋值，整体替换\n",
        "* 可连接组合，但内容必须都是元组，这点和列表连接不同\n",
        "\n",
        "### 元组推导式\n",
        "\n",
        "* 和列表推导式类似，改括号就行\n",
        "* 使用元组推导式生成的结果并非一个元组或列表，而是一个生成器对象，这点与列表推导式不同。若需使用该生成器对象，可使用tuple()函数将其转换为元组或使用list()函数将其转换为列表\n",
        "\n",
        "\n",
        "1. 生成指定范围的数值元组，语法如下：\n",
        "        tuple = (Expression for var in range)\n",
        "\n",
        "2. 根据原元组生成指定需求的新元组，语法如下：\n",
        "        newtuple = (Expression for var in tuple)\n",
        "\n",
        "3. 从原元组中选择符合条件的元素组成新元组，语法如下：\n",
        "        newtuple = （Expression for var in tuple if condition）\n",
        "\n",
        "    * Expression是表达式，用于计算新列表的元素\n",
        "    * condition是条件表达式，用于指定筛选条件\n",
        "  \n",
        "  \n",
        "* 要使用通过元组推导器生成的生成器对象，还可直接通过for循环遍历或直接使用“\\__next__()”方法遍历。无论通过哪种方法遍历后，若再想使用该生成器对象，都必须新建一个生成器对象 "
      ]
    },
    {
      "metadata": {
        "hidden": true,
        "id": "HG6iGW-J-p12",
        "colab_type": "code",
        "colab": {}
      },
      "cell_type": "code",
      "source": [
        "# 通过生成器推导式生成一个包含3个元素的生成器对象number，再调用3次__next__()方法\n",
        "number = (i for i in range(3))\n",
        "print(number.__next__()) # 输出第1个元素\n",
        "print(number.__next__()) # 输出第2个元素\n",
        "print(number.__next__()) # 输出第3个元素\n",
        "\n",
        "print(\"没转换\",number,\"其类型为\",type(number))\n",
        "\n",
        "number = tuple(number) # 转换为元组\n",
        "print(\"转换为元组后\",number,\"其类型为\",type(number))\n",
        "\n",
        "number = list(number) # 转换为列表\n",
        "print(\"转换为列表后\",number,\"其类型为\",type(number))"
      ],
      "execution_count": 0,
      "outputs": []
    },
    {
      "metadata": {
        "hidden": true,
        "id": "JXNBOoLv-p15",
        "colab_type": "code",
        "colab": {}
      },
      "cell_type": "code",
      "source": [
        "# 生成含有6个随机数(范围1～100)的列表\n",
        "import random # 导入random标准库\n",
        "randomnumber = (random.randint(1,100) for i in range(6))\n",
        "randomnumber = tuple(randomnumber) # 转换为元组\n",
        "print(\"生成的随机数为：\",randomnumber)\n",
        "\n",
        "# 将随机数列表中的数值乘以y\n",
        "y = 2\n",
        "newrandomnumber = (int(x*y) for x in randomnumber)\n",
        "newrandomnumber = tuple(newrandomnumber) # 转换为元组\n",
        "print(\"随机数乘以{0}后为：\".format(y),newrandomnumber)\n",
        "\n",
        "# 将新随机数列表中大于100的元素挑出来\n",
        "print(\"新随机数列表中大于100的有：\",tuple(i for i in newrandomnumber if i > 100))"
      ],
      "execution_count": 0,
      "outputs": []
    },
    {
      "metadata": {
        "heading_collapsed": true,
        "id": "sjiESNNL-p2F",
        "colab_type": "text"
      },
      "cell_type": "markdown",
      "source": [
        "# if条件(选择)语句\n",
        "\n",
        "* 语句后的冒号不能少，否则报错\n",
        "* 分为顺序、选择(分支)、循环\n",
        "* Python中选择语句主要有3种形式：if、if···else、if···elif···else\n",
        "    * Python中选择语句只有if，如需多重选择，只能使用if···elif···else多分支语句或if嵌套\n",
        "* 常用的比较运算符有<、<=、>、>=、==、!=\n",
        "* 如只有一条if语句，语句块可直接写到冒号右侧，但为了可读性，不建议此操作"
      ]
    },
    {
      "metadata": {
        "heading_collapsed": true,
        "hidden": true,
        "id": "Ec7JYs7M-p2I",
        "colab_type": "text"
      },
      "cell_type": "markdown",
      "source": [
        "## if···elif···else语句\n",
        "\n",
        "* 语法格式如下\n",
        "\n",
        "        if 表达式1 :\n",
        "            语句块a\n",
        "        elif 表达式2 :\n",
        "            语句块b\n",
        "        elif 表达式3 :\n",
        "            语句块c\n",
        "        ···\n",
        "        else :\n",
        "            语句块n\n",
        "\n",
        "* if和elif都需要判断表达式的真假，而else则不需要判断\n",
        "* elif和else都必须跟if一起使用\n",
        "* if判断为True继续执行语句块，否则执行else的语句块\n",
        "* 使用缩进来划分语句块，相同缩进数的语句在一起组成一个语句块"
      ]
    },
    {
      "metadata": {
        "hidden": true,
        "id": "9XHyr7mJ-p2J",
        "colab_type": "code",
        "colab": {}
      },
      "cell_type": "code",
      "source": [
        "# 该实例演示了数字猜谜游戏\n",
        "number = 7\n",
        "guess = -1\n",
        "print(\"数字猜谜游戏!\")\n",
        "while guess != number:\n",
        "    guess = int(input(\"请输入你猜的数字：\"))\n",
        " \n",
        "    if guess == number:\n",
        "        print(\"恭喜，你猜对了！\")\n",
        "    elif guess < number:\n",
        "        print(\"猜的数字小了...\")\n",
        "    elif guess > number:\n",
        "        print(\"猜的数字大了...\")"
      ],
      "execution_count": 0,
      "outputs": []
    },
    {
      "metadata": {
        "heading_collapsed": true,
        "hidden": true,
        "id": "PSVvpGfo-p2V",
        "colab_type": "text"
      },
      "cell_type": "markdown",
      "source": [
        "## if语句的嵌套\n",
        "\n",
        "* 有多种嵌套方式，但不建议使用，因为必须控制好不同级别代码块的缩进量，示例如下：\n",
        "\n",
        "        if 表达式1:\n",
        "            if 表达式2:\n",
        "                语句块a\n",
        "            elif 表达式3:\n",
        "                语句块b\n",
        "            else:\n",
        "                语句块c\n",
        "        elif 表达式4:\n",
        "            语句块d\n",
        "        else:\n",
        "            语句块e\n",
        "\n",
        "            "
      ]
    },
    {
      "metadata": {
        "hidden": true,
        "id": "WKlXQ-p9-p2X",
        "colab_type": "code",
        "colab": {}
      },
      "cell_type": "code",
      "source": [
        "num=int(input(\"输入一个数字：\"))\n",
        "if num%2==0:\n",
        "    if num%3==0:\n",
        "        print (\"你输入的数字可以整除 2 和 3\")\n",
        "    else:\n",
        "        print (\"你输入的数字可以整除 2，但不能整除 3\")\n",
        "else:\n",
        "    if num%3==0:\n",
        "        print (\"你输入的数字可以整除 3，但不能整除 2\")\n",
        "    else:\n",
        "        print  (\"你输入的数字不能整除 2 和 3\")"
      ],
      "execution_count": 0,
      "outputs": []
    },
    {
      "metadata": {
        "heading_collapsed": true,
        "id": "U89ctlBX-p2a",
        "colab_type": "text"
      },
      "cell_type": "markdown",
      "source": [
        "# 循环语句\n",
        "\n",
        "* 重复一定次数的循环，称为计次循环。如for循环\n",
        "* 只要条件为真，就一直重复，直到条件不满足时才结束的循环，称为条件循环。如while循环"
      ]
    },
    {
      "metadata": {
        "heading_collapsed": true,
        "hidden": true,
        "id": "BBpoYaoH-p2b",
        "colab_type": "text"
      },
      "cell_type": "markdown",
      "source": [
        "## for循环\n",
        "\n",
        "* for循环是一个计次循环，通常适用于枚举或遍历序列，以及迭代对象中的元素。一般应用在循环次数已知的情况下。语法如下：\n",
        "\n",
        "        for 迭代变量 in 对象 :\n",
        "            循环体\n",
        "    * 其中，迭代变量用于保存读取出的值；对象为要遍历或迭代的对象，可以是任何有序的序列对象，如字符串、列表和元组等；循环体为一组被重复执行的语句"
      ]
    },
    {
      "metadata": {
        "heading_collapsed": true,
        "hidden": true,
        "id": "CSy5IkKL-p2c",
        "colab_type": "text"
      },
      "cell_type": "markdown",
      "source": [
        "### 进行数值循环\n",
        "\n",
        "* for循环最基本的应用就是进行数值循环\n",
        "* 若循环次数过多时，需要range()函数\n",
        "    * range()函数是Python的内置函数，用于生成一系列连续的整数。多用于for循环语句中。语法格式如下：\n",
        "\n",
        "            range(start,end,step)\n",
        "        * start用于指定计数的起始值，可忽略，如忽略则从0开始\n",
        "        * end用于指定计数的结束值（但不包括该值），不能省略\n",
        "        * step用于指定步长，即两个数之间的间隔，可省略，如省略则表示步长为1\n",
        "        * 当range()函数中只有一个参数时，表示指定的结束值；如有两个参数，表示指定的是起始值和结束值"
      ]
    },
    {
      "metadata": {
        "hidden": true,
        "id": "-2E1w9x2-p2d",
        "colab_type": "code",
        "colab": {}
      },
      "cell_type": "code",
      "source": [
        "# 利用数值循环输出列表中的值\n",
        "for i in [\"煎饼\",\"初学\",\"Python\"] :\n",
        "    print(i) # 纵向显示\n",
        "\n",
        "    \n",
        "# 利用数值循环多遍执行代码\n",
        "for i in [1,2,3] :\n",
        "    print(\"多多指教\") # 相当于print(\"多多指教\")3次\n",
        "    \n",
        "\n",
        "# 结合使用range()函数多次循环\n",
        "result = 0 # 保存累加结果的变量\n",
        "for i in range(101):\n",
        "    result += i # 累加\n",
        "print(\"计算1+2+3+···+100的结果为：\",result)"
      ],
      "execution_count": 0,
      "outputs": []
    },
    {
      "metadata": {
        "heading_collapsed": true,
        "hidden": true,
        "id": "4RQB4fmP-p2g",
        "colab_type": "text"
      },
      "cell_type": "markdown",
      "source": [
        "### 遍历字符串\n",
        "\n",
        "* 纵向逐个显示字符串文本"
      ]
    },
    {
      "metadata": {
        "hidden": true,
        "id": "e1JnzLjW-p2h",
        "colab_type": "text"
      },
      "cell_type": "markdown",
      "source": [
        "a = \"天佑煎饼\"\n",
        "for b in a :\n",
        "    print(b)"
      ]
    },
    {
      "metadata": {
        "heading_collapsed": true,
        "hidden": true,
        "id": "RqoS7Iul-p2i",
        "colab_type": "text"
      },
      "cell_type": "markdown",
      "source": [
        "## while循环\n",
        "\n",
        "* while循环是一个条件循环，只要条件为真就一直重复。语法格式如下：\n",
        "\n",
        "        while 判断条件：\n",
        "            循环体\n",
        "\n",
        "* 慎用无限循环！若不添加将循环条件改变为False的代码，将死循环。可以使用 CTRL+C 来退出当前的无限循环。无限循环在服务器上客户端的实时请求非常有用\n",
        "\n",
        "* while···else\n",
        "    * 条件为False时执行else\n",
        "\n",
        "            while 判断条件 :\n",
        "                循环体\n",
        "            else  条件表达式 :\n",
        "                语句块"
      ]
    },
    {
      "metadata": {
        "hidden": true,
        "id": "uQ09iVUj-p2k",
        "colab_type": "code",
        "colab": {}
      },
      "cell_type": "code",
      "source": [
        "# 利用while循环求除以三余二、除以五余三、除以七余二的数\n",
        "\n",
        "print(\"今有物不知其数，三三数之剩二，五五数之剩三，七七数之剩二，问几何？\")\n",
        "none = True # 作为循环条件的变量\n",
        "number = 0 # 计数的变量\n",
        "while none :\n",
        "    number += 1 # 计数累加1\n",
        "    if number%3 ==2 and number%5 ==3 and number%7 ==2 : #判断是否符合条件\n",
        "        print(\"答曰：该数为\",number)\n",
        "        none = False # 该例的此行条件不能少，否则死循环"
      ],
      "execution_count": 0,
      "outputs": []
    },
    {
      "metadata": {
        "heading_collapsed": true,
        "hidden": true,
        "id": "5jbxK9v2-p2o",
        "colab_type": "text"
      },
      "cell_type": "markdown",
      "source": [
        "## 循环嵌套\n",
        "\n",
        "1. for循环嵌套示例如下：\n",
        "\n",
        "        for 迭代变量1 in 对象1 ：\n",
        "            for 迭代变量2 in 对象2 ：\n",
        "                循环体2\n",
        "            循环体1\n",
        "            \n",
        "            \n",
        "2. while循环嵌套示例如下\n",
        "\n",
        "        while 条件表达式1 :\n",
        "            while 条件表达式2 :\n",
        "                循环体2\n",
        "            循环体1\n",
        "    \n",
        "    \n",
        "3. while循环中套用for循环，示例如下：\n",
        "\n",
        "        while 条件表达式 :\n",
        "            for 迭代变量 in 对象 :\n",
        "                循环体2\n",
        "            循环体1\n",
        "\n",
        "4. for循环中套用while循环，示例如下\n",
        "\n",
        "        for 迭代变量 in :\n",
        "            while 条件表达式 :\n",
        "                循环体2\n",
        "            循环体1"
      ]
    },
    {
      "metadata": {
        "hidden": true,
        "id": "WYdeJLnG-p2p",
        "colab_type": "text"
      },
      "cell_type": "markdown",
      "source": [
        "## 跳转语句\n",
        "\n",
        "1. break语句完全终止循环，任何对应的循环 else 块将不执行\n",
        "2. conyinue语句跳过当前循环块中的剩余语句，直接跳到下一次循环\n",
        "3. pass语句不做任何事情，一般用做占位，空语句，是为了保持程序结构的完整性"
      ]
    },
    {
      "metadata": {
        "heading_collapsed": true,
        "hidden": true,
        "id": "_raQ3kt4-p2q",
        "colab_type": "text"
      },
      "cell_type": "markdown",
      "source": [
        "### break语句\n",
        "\n",
        "* 一般与if语句搭配使用；如嵌套，终止最内层循环\n",
        "\n",
        "\n",
        "1. while语句中使用break，示例如下：\n",
        "\n",
        "        while 条件表达式1 :\n",
        "            执行代码\n",
        "            if 条件表达式2 :\n",
        "                break\n",
        "                \n",
        "                \n",
        "2. for语句中使用break，示例如下：\n",
        "\n",
        "        for 迭代变量 in 对象 :\n",
        "            if 条件表达式 :\n",
        "                break"
      ]
    },
    {
      "metadata": {
        "hidden": true,
        "id": "HDObmkMH-p2q",
        "colab_type": "code",
        "colab": {}
      },
      "cell_type": "code",
      "source": [
        "# 该实例为字母m时终止\n",
        "\n",
        "for letter in 'Bromeo':     \n",
        "   if letter == 'm':\n",
        "      break\n",
        "   print ('当前字母为 :', letter)"
      ],
      "execution_count": 0,
      "outputs": []
    },
    {
      "metadata": {
        "heading_collapsed": true,
        "hidden": true,
        "id": "CGZq65B9-p2s",
        "colab_type": "text"
      },
      "cell_type": "markdown",
      "source": [
        "### continue语句\n",
        "\n",
        "* 一般与if语句搭配使用；如嵌套，跳过最内层循环\n",
        "\n",
        "\n",
        "1. while语句中使用continue，示例如下：\n",
        "\n",
        "        while 条件表达式1 :\n",
        "            执行代码\n",
        "            if 条件表达式2 :\n",
        "                continue\n",
        "\n",
        "\n",
        "2. for语句中使用continue，示例如下：\n",
        "\n",
        "        for 迭代变量 in 对象 :\n",
        "            if 条件表达式 :\n",
        "                continue"
      ]
    },
    {
      "metadata": {
        "hidden": true,
        "id": "9hYSAtEK-p2t",
        "colab_type": "code",
        "colab": {}
      },
      "cell_type": "code",
      "source": [
        "# 从1数到99逢七拍腿游戏\n",
        "\n",
        "total = 99 # 记录拍腿次数的变量\n",
        "for number in range(1,100) :\n",
        "    if number % 7 ==0 : # 判断是否为7的倍数\n",
        "        continue\n",
        "    else :\n",
        "        string = str(number)\n",
        "        if string.endswith('7') : # 判断是否以数字7结尾\n",
        "            continue\n",
        "    total -= 1\n",
        "print(\"从1数到99共拍腿\",total,\"次\")"
      ],
      "execution_count": 0,
      "outputs": []
    },
    {
      "metadata": {
        "hidden": true,
        "id": "MJ_v6aZ4-p2w",
        "colab_type": "text"
      },
      "cell_type": "markdown",
      "source": [
        "### pass语句\n",
        "\n",
        "* “占着茅坑不拉屎”"
      ]
    },
    {
      "metadata": {
        "hidden": true,
        "id": "rs13skYc-p2x",
        "colab_type": "code",
        "colab": {}
      },
      "cell_type": "code",
      "source": [
        "# 以下实例在字母为o时执行pass语句块\n",
        "\n",
        "for letter in 'Bromeo': \n",
        "   if letter == 'o':\n",
        "      pass\n",
        "      print ('执行 pass 块')\n",
        "   print ('当前字母 :', letter)"
      ],
      "execution_count": 0,
      "outputs": []
    },
    {
      "metadata": {
        "hidden": true,
        "id": "waB8ez5X-p2z",
        "colab_type": "code",
        "colab": {}
      },
      "cell_type": "code",
      "source": [
        ""
      ],
      "execution_count": 0,
      "outputs": []
    },
    {
      "metadata": {
        "hidden": true,
        "id": "f1B-6EdG-p25",
        "colab_type": "code",
        "colab": {}
      },
      "cell_type": "code",
      "source": [
        ""
      ],
      "execution_count": 0,
      "outputs": []
    }
  ]
}