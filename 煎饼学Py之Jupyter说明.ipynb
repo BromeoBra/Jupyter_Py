{
  "nbformat": 4,
  "nbformat_minor": 0,
  "metadata": {
    "colab": {
      "name": "煎饼学Py之Jupyter说明（源自Colaboratory）",
      "version": "0.3.2",
      "provenance": [],
      "collapsed_sections": [
        "xDlh1zT77L2F",
        "Jaw8irL-pkvB",
        "WDgvrem7tST6",
        "vnLpdUiZz64I",
        "lHfqmYcG3-ke",
        "tUDYFc60Ekg-",
        "O2nSazEpvubq",
        "1FS-RHVlcqgG",
        "yeKbxMR5hAQl",
        "EfvJj_piiWre",
        "7mipevearJFu",
        "pndnxcbU272L",
        "HHJEE0hzcmyj",
        "zptx4rJinQ3S",
        "-VFZlQGjG2RK",
        "7FqAu53X-C-_"
      ]
    },
    "kernelspec": {
      "name": "python3",
      "display_name": "Python 3"
    }
  },
  "cells": [
    {
      "metadata": {
        "id": "xDlh1zT77L2F",
        "colab_type": "text"
      },
      "cell_type": "markdown",
      "source": [
        "# 本地Jupyter\n",
        "\n",
        "- 安装参见Jupyter官网 https://jupyter.org/\n",
        "- 常用，目前有些.py文件比在线运行好\n",
        "- 可更改工作环境，更改 ipython_notebook_config.py 的默认路径，查找 c.NotebookApp.notebook_dir 输入更改路径并去掉注释，重启生效，Shell如下"
      ]
    },
    {
      "metadata": {
        "id": "rPp_Z6cG0KjN",
        "colab_type": "code",
        "colab": {}
      },
      "cell_type": "code",
      "source": [
        "# 查询 ipython_notebook_config.py 路径，Shell如下\n",
        "\n",
        "!jupyter notebook --generate-config\n",
        "\n",
        "# 输入N，不要overwrite"
      ],
      "execution_count": 0,
      "outputs": []
    },
    {
      "metadata": {
        "id": "7JX6DHN1kUCr",
        "colab_type": "code",
        "colab": {}
      },
      "cell_type": "code",
      "source": [
        "# 预览 https://jupyter.org\n",
        "\n",
        "from IPython.display import IFrame\n",
        "IFrame('https://jupyter.org', width=800, height=450)"
      ],
      "execution_count": 0,
      "outputs": []
    },
    {
      "metadata": {
        "id": "Jaw8irL-pkvB",
        "colab_type": "text"
      },
      "cell_type": "markdown",
      "source": [
        "# 在线Jupyter\n",
        "\n",
        "* 墙裂推荐一款iOS神器 Juno for Jupyter 内置Azure、Cocalc和Mybinder，参见 https://juno.sh/\n",
        "\n",
        "\n",
        "1. Cocalc： https://cocalc.com\n",
        "2. Azure notebook： https://notebooks.azure.com\n",
        "3. Mybinder： https://mybinder.org/\n",
        "4. Google Colaboratory： https://colab.research.google.com/"
      ]
    },
    {
      "metadata": {
        "id": "WDgvrem7tST6",
        "colab_type": "text"
      },
      "cell_type": "markdown",
      "source": [
        "## Cocalc： https://cocalc.com\n",
        "\n",
        "- Cocalc的免费版没有额外的网络连接, 无法在Cocalc里面再访问其他网页\n",
        "- 界面比Azure好，个人更喜欢，在Juno上常用\n",
        "- 有格式化Cell的功能，相当于排版美化？？\n",
        "- 目前还没发现和Github的互动\n",
        "- 有问题可邮件联系官方，据说秒回服务好\n",
        "- 初学者用免费版够了，付费太贵"
      ]
    },
    {
      "metadata": {
        "id": "6Sp71rvpqAlX",
        "colab_type": "code",
        "colab": {}
      },
      "cell_type": "code",
      "source": [
        "# 预览 https://cocalc.com\n",
        "\n",
        "from IPython.display import IFrame\n",
        "IFrame('https://cocalc.com', width=800, height=450)"
      ],
      "execution_count": 0,
      "outputs": []
    },
    {
      "metadata": {
        "id": "vnLpdUiZz64I",
        "colab_type": "text"
      },
      "cell_type": "markdown",
      "source": [
        "## Azure notebook： https://notebooks.azure.com\n",
        "- 免费，有网络链接\n",
        "- 可以载入GitHub资源，方便一键clone和使用git pull\n",
        "- 个人感觉目前稍逊于Cocalc，还待探究"
      ]
    },
    {
      "metadata": {
        "id": "a7XOjKTa3cHp",
        "colab_type": "code",
        "colab": {}
      },
      "cell_type": "code",
      "source": [
        "# 预览 https://notebooks.azure.com 好像有问题？\n",
        "\n",
        "from IPython.display import IFrame\n",
        "IFrame('https://notebooks.azure.com', width=800, height=450)"
      ],
      "execution_count": 0,
      "outputs": []
    },
    {
      "metadata": {
        "id": "lHfqmYcG3-ke",
        "colab_type": "text"
      },
      "cell_type": "markdown",
      "source": [
        "## Mybinder https://mybinder.org/\n",
        "- 可以从Github里面直接导入, 生成一个docker\n",
        "- Mybinder转 https://mybinder.org/v2/gh/BromeoBra/Jupyter_Py/master 直接导入"
      ]
    },
    {
      "metadata": {
        "id": "7ruNNCgPoXRq",
        "colab_type": "code",
        "colab": {}
      },
      "cell_type": "code",
      "source": [
        "# 预览 https://mybinder.org/\n",
        "\n",
        "from IPython.display import IFrame\n",
        "IFrame('https://mybinder.org/', width=800, height=450)"
      ],
      "execution_count": 0,
      "outputs": []
    },
    {
      "metadata": {
        "id": "tUDYFc60Ekg-",
        "colab_type": "text"
      },
      "cell_type": "markdown",
      "source": [
        "## Google Colaboratory： https://colab.research.google.com/\n",
        "- 需要翻墙是个坑，可惜\n",
        "- Markdown功能较之其他在线Jupyter丰富，Code功能较少\n",
        "- 可保存副本在Github上，项目地址 https://github.com/BromeoBra/Jupyter_Py\n",
        "- Azure和Mybinder都可通过GitHub导入，内容均是（源自Colaboratory）这版\n",
        "- Mybinder转 https://mybinder.org/v2/gh/BromeoBra/Jupyter_Py/master 直接导入\n",
        "- Colaboratory能否通过Github反向导入，值得实验，成功的话就可以绕过翻墙，岂不美哉"
      ]
    },
    {
      "metadata": {
        "id": "XSQZBNLsqmhh",
        "colab_type": "code",
        "colab": {}
      },
      "cell_type": "code",
      "source": [
        "# 预览 https://colab.research.google.com 好像有问题？\n",
        "\n",
        "from IPython.display import IFrame\n",
        "IFrame('https://colab.research.google.com', width=800, height=450)"
      ],
      "execution_count": 0,
      "outputs": []
    },
    {
      "metadata": {
        "id": "O2nSazEpvubq",
        "colab_type": "text"
      },
      "cell_type": "markdown",
      "source": [
        "# 自定义Jupyter主题\n",
        "\n",
        "* 只适用于本地？\n",
        "* 参见 https://github.com/dunovank/jupyter-themes"
      ]
    },
    {
      "metadata": {
        "id": "y7PfmAfBwMLq",
        "colab_type": "code",
        "colab": {}
      },
      "cell_type": "code",
      "source": [
        "# 安装主题包\n",
        "\n",
        "!pip install jupyterthemes"
      ],
      "execution_count": 0,
      "outputs": []
    },
    {
      "metadata": {
        "id": "gcwopOLowPxF",
        "colab_type": "code",
        "colab": {}
      },
      "cell_type": "code",
      "source": [
        "# 加载可用主题列表\n",
        "\n",
        "!jt -l"
      ],
      "execution_count": 0,
      "outputs": []
    },
    {
      "metadata": {
        "id": "VqcRp2tpxVhS",
        "colab_type": "code",
        "colab": {}
      },
      "cell_type": "code",
      "source": [
        "# 预览 https://github.com/dunovank/jupyter-themes 好像有问题？\n",
        "\n",
        "from IPython.display import IFrame\n",
        "IFrame('https://github.com/dunovank/jupyter-themes', width=800, height=450)"
      ],
      "execution_count": 0,
      "outputs": []
    },
    {
      "metadata": {
        "id": "1FS-RHVlcqgG",
        "colab_type": "text"
      },
      "cell_type": "markdown",
      "source": [
        "# 魔术命令\n",
        "\n",
        "* 对于一个模块文件，你对他使用 %run 命令的效果和 from module import * 相同，这种以 % 开头的命令在 IPython 中被称为魔术命令，用于加强 shell 的功能\n",
        "* 若对魔术命令不熟悉可通过 “%magic” 查看详细文档；若对某一个命令不熟悉可通过 “%cmd?” 查看特定文档\n",
        "---\n",
        "\n",
        "\n",
        "1. %quickref    显示 IPython 快速参考\n",
        "2. %magic\t   显示所有魔术命令的详细文档\n",
        "3. %debug\t   从最新的异常跟踪的底部进入交互式调试器\n",
        "4. %pdb\t   在异常发生后自动进入调试器\n",
        "5. %reset\t   删除 interactive 命名空间中的全部变量\n",
        "6. %run script.py\t   执行 script.py\n",
        "7. %prun statement\t   通过 cProfile 执行对 statement 的逐行性能分析\n",
        "8. %time statement\t   测试 statement 的执行时间\n",
        "9. %timeit statement\t   多次测试 statement 的执行时间并计算平均值\n",
        "10. %who、%who_ls、%whos\t   显示 interactive 命名空间中定义的变量，信息级别/冗余度可变\n",
        "11. %xdel variable    删除 variable，并尝试清除其在 IPython 中的对象上的一切引用\n",
        "12. !cmd\t   在系统 shell 执行 cmd\n",
        "13. output=!cmd args\t   执行cmd 并赋值\n",
        "14. %bookmark\t   使用 IPython 的目录书签系统\n",
        "15. %cd direcrory\t   切换工作目录\n",
        "16. %pwd\t   返回当前工作目录（字符串形式）\n",
        "17. %env\t   返回当前系统变量（以字典形式）"
      ]
    },
    {
      "metadata": {
        "id": "I7Kh5p3-dlF4",
        "colab_type": "code",
        "colab": {}
      },
      "cell_type": "code",
      "source": [
        "%magic"
      ],
      "execution_count": 0,
      "outputs": []
    },
    {
      "metadata": {
        "id": "yeKbxMR5hAQl",
        "colab_type": "text"
      },
      "cell_type": "markdown",
      "source": [
        "# Jupyter中操作Shell终端\n",
        "\n",
        "*   在命令之前放一个“!”"
      ]
    },
    {
      "metadata": {
        "id": "OenjkbDeheZR",
        "colab_type": "code",
        "colab": {}
      },
      "cell_type": "code",
      "source": [
        "!jupyter notebook list # 查看Jupyter运行环境"
      ],
      "execution_count": 0,
      "outputs": []
    },
    {
      "metadata": {
        "id": "EfvJj_piiWre",
        "colab_type": "text"
      },
      "cell_type": "markdown",
      "source": [
        "# Jupyter中操作.py文件\n",
        "\n",
        "- 需将.py文件放入工作环境。Mac的默认路径是/Users/Xiong/，可更改\n",
        "\n",
        "\n",
        "1. 运行：方法一(%run)；方法二（!python）\n",
        "2. 导入：(%load)，或者从网络load代码到jupyter在cell中输入（%load http://.....），网页导入的路径不大明白，目前还没成功"
      ]
    },
    {
      "metadata": {
        "id": "6PTFZmA15Oxw",
        "colab_type": "code",
        "colab": {}
      },
      "cell_type": "code",
      "source": [
        "!python Text.py"
      ],
      "execution_count": 0,
      "outputs": []
    },
    {
      "metadata": {
        "id": "OviPBEUKjzmq",
        "colab_type": "code",
        "colab": {}
      },
      "cell_type": "code",
      "source": [
        "%run Text.py"
      ],
      "execution_count": 0,
      "outputs": []
    },
    {
      "metadata": {
        "id": "I7EMTibcj8bS",
        "colab_type": "code",
        "colab": {}
      },
      "cell_type": "code",
      "source": [
        "%load Text.py"
      ],
      "execution_count": 0,
      "outputs": []
    },
    {
      "metadata": {
        "id": "7mipevearJFu",
        "colab_type": "text"
      },
      "cell_type": "markdown",
      "source": [
        "# Jupyter中插入网址和PDF\n",
        "\n",
        "* 不跳转，直接在Jupyter中显示\n",
        "*不会显示http网址，Iframe中只允许使用https，如下示例WiKi搜索Jupyter"
      ]
    },
    {
      "metadata": {
        "id": "9sSVlEStiJQb",
        "colab_type": "code",
        "colab": {}
      },
      "cell_type": "code",
      "source": [
        "# 不会显示http网址，Iframe中只允许使用https\n",
        "\n",
        "from IPython.display import IFrame\n",
        "IFrame('https://en.wikipedia.org/wiki/Project_Jupyter', width=800, height=450)"
      ],
      "execution_count": 0,
      "outputs": []
    },
    {
      "metadata": {
        "id": "pndnxcbU272L",
        "colab_type": "text"
      },
      "cell_type": "markdown",
      "source": [
        "# Jupyter各种快捷键\n",
        "\n",
        "\n",
        "1. 执行当前Cell，并自动跳到下一个Cell：Shift Enter\n",
        "2. 执行当前Cell，执行后不自动调转到下一个Cell：Ctrl-Enter\n",
        "3. 使当前的Cell进入编辑模式：Enter\n",
        "4. 退出当前Cell的编辑模式：Esc\n",
        "5. 删除当前的Cell：双D\n",
        "6. 为当前的Cell加入line number：单L\n",
        "7. 将当前的Cell转化为具有一级标题的Maskdown：单1\n",
        "8. 将当前的Cell转化为具有二级标题的Maskdown：单2\n",
        "9. 将当前的Cell转化为具有三级标题的Maskdown：单3\n",
        "10. 为一行或者多行添加/取消注释：Crtl /\n",
        "11. 撤销对某个Cell的删除：z\n",
        "12. 浏览器的各个Tab之间切换：Crtl PgUp和Crtl PgDn\n",
        "13. 快速跳转到首个Cell：Crtl Home\n",
        "14. 快速跳转到最后一个Cell：Crtl End"
      ]
    },
    {
      "metadata": {
        "id": "J9ehLtMs6iZv",
        "colab_type": "code",
        "colab": {}
      },
      "cell_type": "code",
      "source": [
        "print(\"用快捷键测试下Code-Cell\")"
      ],
      "execution_count": 0,
      "outputs": []
    },
    {
      "metadata": {
        "id": "7r8HNfIt6vDM",
        "colab_type": "text"
      },
      "cell_type": "markdown",
      "source": [
        "用快捷键测试下Markdown-Cell"
      ]
    },
    {
      "metadata": {
        "id": "HHJEE0hzcmyj",
        "colab_type": "text"
      },
      "cell_type": "markdown",
      "source": [
        "# NBextensions：Jupyter拓展插件包\n",
        "\n",
        "* 安装包，Shell如下\n",
        "* 有些插件在网页版或Juno端显示不出\n",
        "* 若Home页不显示，转 http://localhost:8888/nbextensions （只适用于本地？）\n",
        "---\n",
        "\n",
        "\n",
        "1. Code prettify\n",
        "2. Collapsible Headings\n",
        "3. Gist-it\n",
        "4. Hinterland\n",
        "5. Freeze\n",
        "6. Python Markdown\n",
        "7. Live Markdown Preview\n",
        "8. Nbextensions dashboard tab & Nbextensions edit menu item\n",
        "9. Runtools\n",
        "10. Table of Contents (2)\n",
        "11. Scratchpad"
      ]
    },
    {
      "metadata": {
        "id": "GQmp88YLpYeo",
        "colab_type": "code",
        "colab": {}
      },
      "cell_type": "code",
      "source": [
        "# NBextensions 拓展包，pip安装\n",
        "\n",
        "!pip install jupyter_contrib_nbextensions && jupyter contrib nbextension install --user"
      ],
      "execution_count": 0,
      "outputs": []
    },
    {
      "metadata": {
        "id": "zptx4rJinQ3S",
        "colab_type": "text"
      },
      "cell_type": "markdown",
      "source": [
        "## Code prettify 代码格式化\\美化\n",
        "\n",
        "* 需先安装yapf，Shell如下"
      ]
    },
    {
      "metadata": {
        "id": "pDg37E7Upbcr",
        "colab_type": "code",
        "colab": {}
      },
      "cell_type": "code",
      "source": [
        "# Code prettify 插件\n",
        "\n",
        "!pip install yapf"
      ],
      "execution_count": 0,
      "outputs": []
    },
    {
      "metadata": {
        "id": "q9jQp-fXuQM6",
        "colab_type": "text"
      },
      "cell_type": "markdown",
      "source": [
        "## Collapsible Headings 折叠标题\n",
        "\n",
        "* 按标题级别折叠\n",
        "* Markdown下的Code会被折叠隐藏"
      ]
    },
    {
      "metadata": {
        "id": "QW5SsC2_xyzT",
        "colab_type": "text"
      },
      "cell_type": "markdown",
      "source": [
        "## Gist-it 发布Github gists\n",
        "\n",
        "* 将笔记本发布为Github gists\n",
        "* 需在Gist获得个人Token权限，参见 www.github.com/settings/tokens"
      ]
    },
    {
      "metadata": {
        "id": "tB13CWRU0Mjr",
        "colab_type": "text"
      },
      "cell_type": "markdown",
      "source": [
        "## Hinterland 自动补充代码\n",
        "\n",
        "* 在进行注释时也会有代码补全的提醒.并且此插件不需要用空格的形式或者是Tab键的形式"
      ]
    },
    {
      "metadata": {
        "id": "b3QaxWIm_RKH",
        "colab_type": "text"
      },
      "cell_type": "markdown",
      "source": [
        "## Freeze 冰冻\n",
        "\n",
        "* 分Read-only和Freeze\n",
        "---\n",
        "\n",
        "\n",
        "1. Read-only: 可以执行code-cells，但不能改代码；markdown可以双击查看markdown代码，但不能改代码\n",
        "2. Freeze: 不能改变或执行code-cells；不能双击查看或改变markdown代码"
      ]
    },
    {
      "metadata": {
        "id": "-VFZlQGjG2RK",
        "colab_type": "text"
      },
      "cell_type": "markdown",
      "source": [
        "## Python Markdown 在Markdown模式中执行Python代码\n",
        "\n",
        "* 赋值、Latex、图片三功能目前只明白赋值，示例如下"
      ]
    },
    {
      "metadata": {
        "id": "4bqnzghjIDl8",
        "colab_type": "code",
        "colab": {}
      },
      "cell_type": "code",
      "source": [
        "a = \"Markdown运行{{a}}的结果\""
      ],
      "execution_count": 0,
      "outputs": []
    },
    {
      "metadata": {
        "id": "CnI9k3BsIMdH",
        "colab_type": "text"
      },
      "cell_type": "markdown",
      "source": [
        "上面Code运行后： {{a}}"
      ]
    },
    {
      "metadata": {
        "id": "WJ7M0T34jDsm",
        "colab_type": "text"
      },
      "cell_type": "markdown",
      "source": [
        "## Live Markdown Preview 预览Markdown输出\n",
        "\n",
        "* 在编辑Markdown时，实时预览单元格的渲染输出"
      ]
    },
    {
      "metadata": {
        "id": "dxnP2sPao7A6",
        "colab_type": "text"
      },
      "cell_type": "markdown",
      "source": [
        "## Nbextensions dashboard tab & Nbextensions edit menu item\n",
        "\n",
        "* 在Home主页\\Edit菜单栏中显示“Nbextensions”操作选项（在线版不起作用，本地和Juno端的CoCalc可以显示）\n",
        "* 若Home页不显示，转 http://localhost:8888/nbextensions （只适用于本地？）"
      ]
    },
    {
      "metadata": {
        "id": "eTcnSyrkp4Eh",
        "colab_type": "text"
      },
      "cell_type": "markdown",
      "source": [
        "## Runtools 附加功能\n",
        "\n",
        "* 提供了许多附加功能，用于处理Cell"
      ]
    },
    {
      "metadata": {
        "id": "mnlhwwN-swbh",
        "colab_type": "text"
      },
      "cell_type": "markdown",
      "source": [
        "## Table of Contents (2) 目录\n",
        "\n",
        "* 在浮动窗口中显示所有正在运行的标题，作为侧边栏或导航菜单\n",
        "* 该扩展还具有可拖动，可调整大小，可折叠，可停靠的功能，并具有自动编辑功能"
      ]
    },
    {
      "metadata": {
        "id": "J1sBRYqUuD5A",
        "colab_type": "text"
      },
      "cell_type": "markdown",
      "source": [
        "## Scratchpad 暂存器单元格\n",
        "\n",
        "* 在Jupyter笔记本中添加一个暂存器单元格\n",
        "* 这是一个单元，可以在其中执行针对当前内核的代码而无需修改笔记本文档\n",
        "* 使用Shift-Enter执行Scratchpad单元格（其他快捷方式应用于笔记本文档）\n",
        "* 单击右下角的图标或通过键盘快捷键Ctrl-B来切换暂存器。"
      ]
    },
    {
      "metadata": {
        "id": "7FqAu53X-C-_",
        "colab_type": "text"
      },
      "cell_type": "markdown",
      "source": [
        "# Github\n",
        "- 强大且免费的资源库\n",
        "- 我的GitHub有关项目地址 https://github.com/BromeoBra/Jupyter_Py\n",
        "- 好像不能直接打开.ipynb文件，需转 https://gist.github.com/BromeoBra 查看gists"
      ]
    },
    {
      "metadata": {
        "id": "fk3tElnikz7h",
        "colab_type": "code",
        "colab": {}
      },
      "cell_type": "code",
      "source": [
        "# 预览 https://github.com/BromeoBra/Jupyter_Py 好像有问题？\n",
        "\n",
        "from IPython.display import IFrame\n",
        "IFrame('https://github.com/BromeoBra/Jupyter_Py', width=800, height=450)"
      ],
      "execution_count": 0,
      "outputs": []
    }
  ]
}
