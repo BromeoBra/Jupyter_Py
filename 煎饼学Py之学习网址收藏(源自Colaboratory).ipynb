{
  "nbformat": 4,
  "nbformat_minor": 0,
  "metadata": {
    "colab": {
      "name": "煎饼学Py之学习网址收藏(源自Colaboratory).ipynb",
      "version": "0.3.2",
      "provenance": [],
      "private_outputs": true,
      "collapsed_sections": [
        "UuV-DM91gXEz",
        "oexepYDWnN6Z",
        "dJZ6O60ClTws",
        "ZEuVupFgov-M",
        "LwHsNjQfpRsO"
      ]
    },
    "kernelspec": {
      "name": "python3",
      "display_name": "Python 3"
    }
  },
  "cells": [
    {
      "metadata": {
        "id": "UuV-DM91gXEz",
        "colab_type": "text"
      },
      "cell_type": "markdown",
      "source": [
        "# 学习网址收藏\n",
        "\n",
        "* 几个自认为好用的Python学习网址\n",
        "---\n",
        "\n",
        "1. 笨办法学Python    https://www.2cto.com/shouce/Pythonbbf/index.html\n",
        "2. Python3菜鸟教程    https://www.runoob.com/python3/python3-tutorial.html\n",
        "3. Crossin的编程教室    https://crossincode.com/home/\n",
        "4. 网易云课堂之免费Python全系列教程全栈工程师    https://study.163.com/course/introduction/1004987028.htm"
      ]
    },
    {
      "metadata": {
        "id": "oexepYDWnN6Z",
        "colab_type": "text"
      },
      "cell_type": "markdown",
      "source": [
        "## 笨办法学Python\n",
        "\n",
        "* https://www.2cto.com/shouce/Pythonbbf/index.html"
      ]
    },
    {
      "metadata": {
        "id": "DDlzBn_RnpAx",
        "colab_type": "code",
        "colab": {}
      },
      "cell_type": "code",
      "source": [
        "# 预览 https://www.2cto.com/shouce/Pythonbbf/index.html\n",
        "\n",
        "from IPython.display import IFrame\n",
        "IFrame('https://www.2cto.com/shouce/Pythonbbf/index.html', width=800, height=450)"
      ],
      "execution_count": 0,
      "outputs": []
    },
    {
      "metadata": {
        "id": "dJZ6O60ClTws",
        "colab_type": "text"
      },
      "cell_type": "markdown",
      "source": [
        "## 网易云课堂之免费Python全系列教程全栈工程师\n",
        "\n",
        "* https://study.163.com/course/introduction/1004987028.htm\n",
        "* 免费 有微信QQ"
      ]
    },
    {
      "metadata": {
        "id": "tcszhyK4fcOd",
        "colab_type": "code",
        "colab": {}
      },
      "cell_type": "code",
      "source": [
        "# 预览 https://study.163.com/course/introduction/1004987028.htm\n",
        "\n",
        "from IPython.display import IFrame\n",
        "IFrame('https://study.163.com/course/introduction/1004987028.htm', width=800, height=450)"
      ],
      "execution_count": 0,
      "outputs": []
    },
    {
      "metadata": {
        "id": "ZEuVupFgov-M",
        "colab_type": "text"
      },
      "cell_type": "markdown",
      "source": [
        "## Python3菜鸟教程\n",
        "\n",
        "* http://www.runoob.com/python3/python3-tutorial.html"
      ]
    },
    {
      "metadata": {
        "id": "-ValEsOWo49a",
        "colab_type": "code",
        "colab": {}
      },
      "cell_type": "code",
      "source": [
        "# 预览 https://www.runoob.com/python3/python3-tutorial.html \n",
        "\n",
        "from IPython.display import IFrame\n",
        "IFrame('https://www.runoob.com/python3/python3-tutorial.html', width=800, height=450)"
      ],
      "execution_count": 0,
      "outputs": []
    },
    {
      "metadata": {
        "id": "LwHsNjQfpRsO",
        "colab_type": "text"
      },
      "cell_type": "markdown",
      "source": [
        "## Crossin的编程教室\n",
        "* https://crossincode.com/home/"
      ]
    },
    {
      "metadata": {
        "id": "zx0GR_VJpkeP",
        "colab_type": "code",
        "colab": {}
      },
      "cell_type": "code",
      "source": [
        "# 预览 https://crossincode.com/home/\n",
        "\n",
        "from IPython.display import IFrame\n",
        "IFrame('https://crossincode.com/home/', width=800, height=450)"
      ],
      "execution_count": 0,
      "outputs": []
    }
  ]
}